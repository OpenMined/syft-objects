{
 "cells": [
  {
   "cell_type": "code",
   "execution_count": 1,
   "id": "29fca003-9d43-48d9-bfc5-ea4ac6f83e69",
   "metadata": {},
   "outputs": [],
   "source": [
    "import syft_objects as so"
   ]
  },
  {
   "cell_type": "code",
   "execution_count": 7,
   "id": "54f42517-191e-4660-b59f-c3292de64806",
   "metadata": {},
   "outputs": [],
   "source": [
    "obj = so.objects[\"a285d566-de34-4ff9-87b1-787b6a570c5b\"]"
   ]
  },
  {
   "cell_type": "code",
   "execution_count": 9,
   "id": "7336f997-a7e3-41c2-a1a5-236e6f3df166",
   "metadata": {},
   "outputs": [],
   "source": [
    "import syft_objects as so\n",
    "import os\n",
    "import shutil\n",
    "\n",
    "# Clean up any existing test folders\n",
    "if os.path.exists(\"test_mock_folder\"):\n",
    "  shutil.rmtree(\"test_mock_folder\")\n",
    "if os.path.exists(\"test_private_folder\"):\n",
    "  shutil.rmtree(\"test_private_folder\")\n",
    "\n",
    "# Create mock folder structure\n",
    "os.makedirs(\"test_mock_folder/data\", exist_ok=True)\n",
    "os.makedirs(\"test_mock_folder/models\", exist_ok=True)\n",
    "os.makedirs(\"test_mock_folder/reports\", exist_ok=True)\n",
    "\n",
    "# Add mock files\n",
    "with open(\"test_mock_folder/README.md\", \"w\") as f:\n",
    "  f.write(\"# Demo Project\\nThis is a demo with synthetic data\")\n",
    "\n",
    "with open(\"test_mock_folder/data/sample.csv\", \"w\") as f:\n",
    "  f.write(\"id,value\\n1,100\\n2,200\\n3,300\")\n",
    "\n",
    "with open(\"test_mock_folder/models/model.txt\", \"w\") as f:\n",
    "  f.write(\"Mock model weights: [0.1, 0.2, 0.3]\")\n",
    "\n",
    "with open(\"test_mock_folder/reports/summary.txt\", \"w\") as f:\n",
    "  f.write(\"Demo Summary: 3 samples processed\")\n",
    "\n",
    "# Create private folder structure\n",
    "os.makedirs(\"test_private_folder/data\", exist_ok=True)\n",
    "os.makedirs(\"test_private_folder/models\", exist_ok=True)\n",
    "os.makedirs(\"test_private_folder/reports\", exist_ok=True)\n",
    "\n",
    "# Add private files\n",
    "with open(\"test_private_folder/README.md\", \"w\") as f:\n",
    "  f.write(\"# Production Project\\nReal customer data - CONFIDENTIAL\")\n",
    "\n",
    "with open(\"test_private_folder/data/customers.csv\", \"w\") as f:\n",
    "  f.write(\"id,name,value,ssn\\n1,John Doe,15000,123-45-6789\\n2,Jane Smith,25000,987-65-4321\")\n",
    "\n",
    "with open(\"test_private_folder/models/model.pkl\", \"w\") as f:\n",
    "  f.write(\"Real model weights: [0.127, 0.234, 0.389, 0.445, 0.667]\")\n",
    "\n",
    "with open(\"test_private_folder/reports/financial.txt\", \"w\") as f:\n",
    "  f.write(\"Q4 Revenue: $2,547,891.23\\nProfit Margin: 23.7%\")\n"
   ]
  },
  {
   "cell_type": "code",
   "execution_count": 23,
   "id": "81b26481-3e7f-4e08-b140-e79c3bde5b04",
   "metadata": {},
   "outputs": [],
   "source": [
    "\n",
    "# # Create the folder syft object with different permission levels\n",
    "# folder_obj = so.create_object(\n",
    "#   name=\"Test ML Project 3\",\n",
    "#   mock_folder=\"test_mock_folder/\",\n",
    "#   private_folder=\"test_private_folder/\",\n",
    "\n",
    "#   # Permission testing - different users see different things\n",
    "#   discovery_read=[\"andrew@openmined.org\"],                    # Everyone can discover it exists\n",
    "#   mock_read=[\"intern@company.com\"],             # Interns can see mock\n",
    "#   mock_write=[],                                # No one can edit mock\n",
    "#   private_read=[\"cto@company.com\"],             # Only CTO sees real data\n",
    "#   private_write=[\"cto@company.com\", \"admin@company.com\"],  # CTO & admin can edit\n",
    "\n",
    "#   mock_note=\"Demo version with synthetic data, no PII or financial info\",\n",
    "#   metadata={\n",
    "#       \"project_type\": \"machine_learning\",\n",
    "#       \"sensitivity\": \"high\",\n",
    "#       \"department\": \"data_science\"\n",
    "#   }\n",
    "# )"
   ]
  },
  {
   "cell_type": "code",
   "execution_count": 2,
   "id": "0a8c82f7-553f-4ccd-966e-9540930eb604",
   "metadata": {},
   "outputs": [],
   "source": [
    "import syft_objects as so"
   ]
  },
  {
   "cell_type": "code",
   "execution_count": 2,
   "id": "1fce1f02-5a4f-4480-9b04-96030d2795de",
   "metadata": {},
   "outputs": [],
   "source": [
    "# so.objects"
   ]
  },
  {
   "cell_type": "code",
   "execution_count": 8,
   "id": "8476c798-50e0-4fed-9896-60f87e2e1ecb",
   "metadata": {},
   "outputs": [],
   "source": [
    "Test_ML_Project_3 = so.objects[\"c44aff2f-3d3a-439d-98bc-a509a178d155\"]"
   ]
  },
  {
   "cell_type": "code",
   "execution_count": 9,
   "id": "a5384896-1b12-47b5-bc30-0d547813b3dc",
   "metadata": {},
   "outputs": [
    {
     "data": {
      "text/html": [
       "\n",
       "            <div style=\"width: 100%; height: 420px; border: 1px solid #e5e7eb; border-radius: 8px; overflow: hidden;\">\n",
       "                <iframe src=\"http://localhost:8004/api/object/c44aff2f-3d3a-439d-98bc-a509a178d155/view\" style=\"width: 100%; height: 100%; border: none;\"></iframe>\n",
       "            </div>\n",
       "            "
      ],
      "text/plain": [
       "<SyftObject uid=c44aff2f-3d3a-439d-98bc-a509a178d155 name='Test ML Project 3'>"
      ]
     },
     "execution_count": 9,
     "metadata": {},
     "output_type": "execute_result"
    }
   ],
   "source": [
    "Test_ML_Project_3"
   ]
  },
  {
   "cell_type": "code",
   "execution_count": 10,
   "id": "6dedaa56-d728-40ec-97fe-414f235e36d0",
   "metadata": {},
   "outputs": [],
   "source": [
    "Syft_Object2 = so.objects[\"4bda8ff7-7105-4907-a32a-e317def0531a\"]"
   ]
  },
  {
   "cell_type": "code",
   "execution_count": 11,
   "id": "0e2503af-4e32-4855-a4b0-f148f19c335e",
   "metadata": {},
   "outputs": [
    {
     "data": {
      "text/html": [
       "\n",
       "            <div style=\"width: 100%; height: 420px; border: 1px solid #e5e7eb; border-radius: 8px; overflow: hidden;\">\n",
       "                <iframe src=\"http://localhost:8004/api/object/4bda8ff7-7105-4907-a32a-e317def0531a/view\" style=\"width: 100%; height: 100%; border: none;\"></iframe>\n",
       "            </div>\n",
       "            "
      ],
      "text/plain": [
       "<SyftObject uid=4bda8ff7-7105-4907-a32a-e317def0531a name='Syft Object2'>"
      ]
     },
     "execution_count": 11,
     "metadata": {},
     "output_type": "execute_result"
    }
   ],
   "source": [
    "Syft_Object2"
   ]
  },
  {
   "cell_type": "code",
   "execution_count": 12,
   "id": "9deeb240-6375-4fa2-88a1-9eb6c80f2ee9",
   "metadata": {},
   "outputs": [
    {
     "data": {
      "text/plain": [
       "\u001b[31mSignature:\u001b[39m so.create_object(name=\u001b[38;5;28;01mNone\u001b[39;00m, *, move_files_to_syftbox=\u001b[38;5;28;01mNone\u001b[39;00m, **kwargs)\n",
       "\u001b[31mDocstring:\u001b[39m\n",
       "Create a new SyftObject with explicit naming.\n",
       "\n",
       "Creates a new SyftObject with the specified parameters.\n",
       "\n",
       "Args:\n",
       "    name: Optional name for the object\n",
       "    **kwargs: All the same arguments as syobj:\n",
       "        - private_contents: String content for private file\n",
       "        - mock_contents: String content for mock file\n",
       "        - private_file: Path to private file\n",
       "        - mock_file: Path to mock file\n",
       "        - private_folder: Path to private folder\n",
       "        - mock_folder: Path to mock folder\n",
       "        - discovery_read: List of who can discover\n",
       "        - mock_read: List of who can read mock\n",
       "        - mock_write: List of who can write mock\n",
       "        - private_read: List of who can read private\n",
       "        - private_write: List of who can write private\n",
       "        - metadata: Additional metadata dict\n",
       "        - skip_validation: Skip mock/real file validation\n",
       "        - mock_note: Optional note explaining mock data differences\n",
       "        - suggest_mock_notes: Whether to suggest mock notes (None uses config)\n",
       "        - move_files_to_syftbox: Whether to copy/move files to SyftBox (default: False)\n",
       "            - When True: User files are copied, generated files are moved\n",
       "            - When False: Files stay in their original locations\n",
       "\n",
       "Returns:\n",
       "    SyftObject: The newly created object\n",
       "\u001b[31mFile:\u001b[39m      ~/Documents/GitHub/syft-objects/src/syft_objects/__init__.py\n",
       "\u001b[31mType:\u001b[39m      function"
      ]
     },
     "metadata": {},
     "output_type": "display_data"
    }
   ],
   "source": [
    "so.create_object?"
   ]
  },
  {
   "cell_type": "code",
   "execution_count": 1,
   "id": "e2a46069-3a2c-488b-b863-d4610c38ba97",
   "metadata": {},
   "outputs": [],
   "source": [
    "import syft_objects as so"
   ]
  },
  {
   "cell_type": "code",
   "execution_count": 4,
   "id": "1813ecd7-e854-4f88-8966-355c12b325d8",
   "metadata": {},
   "outputs": [
    {
     "name": "stdout",
     "output_type": "stream",
     "text": [
      "\n",
      "💡 Mock note suggestion: '1 lines'\n",
      "   To add this note, run: so.objects['265d8e18-2a65-4c84-861e-ccecced47427'].mock.set_note('1 lines')\n",
      "   Or set config.mock_note_sensitivity = 'always' to auto-add suggestions\n",
      "\n"
     ]
    }
   ],
   "source": [
    "analysis = so.create_object(\n",
    "    name=\"Mock Read Test CANT READ — v2\",\n",
    "    mock_contents=\"Revenue up 10% to $2.5M\",         # What others see\n",
    "    private_contents=\"Revenue: $2,547,891.23\",       # What you see\n",
    "    discovery_read=['andrew@openmined.org'],\n",
    "    mock_read=['liamtrask@gmail.com'],\n",
    "    move_files_to_syftbox=False                      # NEW: Keep files in original location\n",
    ")"
   ]
  },
  {
   "cell_type": "code",
   "execution_count": 7,
   "id": "38a55126-8e54-4436-b081-13d3b8d21e70",
   "metadata": {},
   "outputs": [
    {
     "data": {
      "text/plain": [
       "['liamtrask@gmail.com']"
      ]
     },
     "execution_count": 7,
     "metadata": {},
     "output_type": "execute_result"
    }
   ],
   "source": [
    "analysis.mock.get_read_permissions()"
   ]
  },
  {
   "cell_type": "code",
   "execution_count": 9,
   "id": "13726b52-9804-4478-8be3-c286368d0689",
   "metadata": {},
   "outputs": [],
   "source": [
    "analysis.mock.set_read_permissions(['liamtrask@gmail.com','andrew@openmined.org'])"
   ]
  },
  {
   "cell_type": "code",
   "execution_count": null,
   "id": "76c92ace-75ca-45f4-b1d9-5207e47f7bf4",
   "metadata": {},
   "outputs": [],
   "source": []
  }
 ],
 "metadata": {
  "kernelspec": {
   "display_name": "Python 3 (ipykernel)",
   "language": "python",
   "name": "python3"
  },
  "language_info": {
   "codemirror_mode": {
    "name": "ipython",
    "version": 3
   },
   "file_extension": ".py",
   "mimetype": "text/x-python",
   "name": "python",
   "nbconvert_exporter": "python",
   "pygments_lexer": "ipython3",
   "version": "3.12.7"
  }
 },
 "nbformat": 4,
 "nbformat_minor": 5
}
