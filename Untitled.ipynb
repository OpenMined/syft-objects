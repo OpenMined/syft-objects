{
 "cells": [
  {
   "cell_type": "code",
   "execution_count": 1,
   "id": "29fca003-9d43-48d9-bfc5-ea4ac6f83e69",
   "metadata": {},
   "outputs": [],
   "source": [
    "import syft_objects as so"
   ]
  },
  {
   "cell_type": "code",
   "execution_count": 7,
   "id": "57357878-1d4b-45b0-a653-e6e5510dab3e",
   "metadata": {},
   "outputs": [
    {
     "data": {
      "text/html": [
       "\n",
       "        <iframe \n",
       "            src=\"http://localhost:57482/widget\" \n",
       "            width=\"100%\" \n",
       "            height=\"400px\"\n",
       "            frameborder=\"0\"\n",
       "            style=\"border: none;\"\n",
       "            title=\"SyftObjects Widget\">\n",
       "        </iframe>\n",
       "        "
      ],
      "text/plain": [
       "+---------+-----------------------+-----------------------+------------------------------------------------------------------------+-----------------------------------------------------------------------+\n",
       "|   Index | Email                 | Object Name           | Private URL                                                            | Mock URL                                                              |\n",
       "+=========+=======================+=======================+========================================================================+=======================================================================+\n",
       "|       0 | liamtrask@gmail.com   | Syft Object           | syft://liamtrask@gmail.com/private/objects/Syft Object_private.txt     | syft://liamtrask@gmail.com/public/objects/Syft Object_private.txt     |\n",
       "+---------+-----------------------+-----------------------+------------------------------------------------------------------------+-----------------------------------------------------------------------+\n",
       "|       1 | jajif89762@ofacer.com | NetflixViewingHistory | syft://jajif89762@ofacer.com/private/objects/NetflixViewingHistory.csv | syft://jajif89762@ofacer.com/public/objects/NetflixViewingHistory.csv |\n",
       "+---------+-----------------------+-----------------------+------------------------------------------------------------------------+-----------------------------------------------------------------------+"
      ]
     },
     "execution_count": 7,
     "metadata": {},
     "output_type": "execute_result"
    }
   ],
   "source": [
    "so.objects"
   ]
  },
  {
   "cell_type": "code",
   "execution_count": 2,
   "id": "32c96e31-9391-476f-b7db-3762f21a3509",
   "metadata": {},
   "outputs": [],
   "source": [
    "import syft_objects as so"
   ]
  },
  {
   "cell_type": "code",
   "execution_count": 3,
   "id": "1813ecd7-e854-4f88-8966-355c12b325d8",
   "metadata": {},
   "outputs": [
    {
     "name": "stdout",
     "output_type": "stream",
     "text": [
      "\n",
      "💡 Mock note suggestion: '1 lines'\n",
      "   To add this note, run: so.objects['cfbe0850-f0a9-43ae-af3b-19fec0b16195'].mock.set_note('1 lines')\n",
      "   Or set config.mock_note_sensitivity = 'always' to auto-add suggestions\n",
      "\n",
      "Warning: Could not set permissions with syft-perm: 'NoneType' object has no attribute 'get'\n"
     ]
    }
   ],
   "source": [
    "analysis = so.create_object(\n",
    "    name=\"Q4 Sales Analysis\",\n",
    "    mock_contents=\"Revenue up 10% to $2.5M\",         # What others see\n",
    "    private_contents=\"Revenue: $2,547,891.23\",       # What you see\n",
    "    move_files_to_syftbox=False                      # NEW: Keep files in original location\n",
    ")"
   ]
  },
  {
   "cell_type": "code",
   "execution_count": 4,
   "id": "4e8459ea-c56f-4247-8779-cdfb2d673c50",
   "metadata": {},
   "outputs": [
    {
     "data": {
      "text/plain": [
       "['*']"
      ]
     },
     "execution_count": 4,
     "metadata": {},
     "output_type": "execute_result"
    }
   ],
   "source": [
    "analysis.syftobject_config.get_read_permissions()"
   ]
  },
  {
   "cell_type": "code",
   "execution_count": 8,
   "id": "0209e951-6f47-4f9d-9554-67530f948e0a",
   "metadata": {},
   "outputs": [],
   "source": [
    "analysis.syftobject_config.set_read_permissions(['public'])"
   ]
  },
  {
   "cell_type": "code",
   "execution_count": null,
   "id": "407096b3-1e54-4eaf-99d1-506a328f99fc",
   "metadata": {},
   "outputs": [],
   "source": []
  },
  {
   "cell_type": "code",
   "execution_count": 12,
   "id": "8a8d6e97-a9ea-4db4-87e3-603ce569a750",
   "metadata": {},
   "outputs": [
    {
     "data": {
      "text/html": [
       "\n",
       "            <div style=\"width: 100%; height: 420px; border: 1px solid #e5e7eb; border-radius: 8px; overflow: hidden;\">\n",
       "                <iframe src=\"http://localhost:57482/api/object/7bb28102-65c3-4cc9-988f-4bea0cb64d09/view\" style=\"width: 100%; height: 100%; border: none;\"></iframe>\n",
       "            </div>\n",
       "            "
      ],
      "text/plain": [
       "<SyftObject uid=7bb28102-65c3-4cc9-988f-4bea0cb64d09 name='Q4 Sales Analysis'>"
      ]
     },
     "execution_count": 12,
     "metadata": {},
     "output_type": "execute_result"
    }
   ],
   "source": [
    "analysis"
   ]
  },
  {
   "cell_type": "code",
   "execution_count": null,
   "id": "38a55126-8e54-4436-b081-13d3b8d21e70",
   "metadata": {},
   "outputs": [],
   "source": []
  }
 ],
 "metadata": {
  "kernelspec": {
   "display_name": "Python 3 (ipykernel)",
   "language": "python",
   "name": "python3"
  },
  "language_info": {
   "codemirror_mode": {
    "name": "ipython",
    "version": 3
   },
   "file_extension": ".py",
   "mimetype": "text/x-python",
   "name": "python",
   "nbconvert_exporter": "python",
   "pygments_lexer": "ipython3",
   "version": "3.12.7"
  }
 },
 "nbformat": 4,
 "nbformat_minor": 5
}
