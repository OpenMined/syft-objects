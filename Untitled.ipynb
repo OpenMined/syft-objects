{
 "cells": [
  {
   "cell_type": "code",
   "execution_count": 1,
   "id": "29fca003-9d43-48d9-bfc5-ea4ac6f83e69",
   "metadata": {},
   "outputs": [],
   "source": [
    "import syft_objects as so"
   ]
  },
  {
   "cell_type": "code",
   "execution_count": 14,
   "id": "57357878-1d4b-45b0-a653-e6e5510dab3e",
   "metadata": {},
   "outputs": [
    {
     "data": {
      "text/html": [
       "\n",
       "        <iframe \n",
       "            src=\"http://localhost:54449/widget\" \n",
       "            width=\"100%\" \n",
       "            height=\"400px\"\n",
       "            frameborder=\"0\"\n",
       "            style=\"border: none;\"\n",
       "            title=\"SyftObjects Widget\">\n",
       "        </iframe>\n",
       "        "
      ],
      "text/plain": [
       "+---------+-----------------------+-----------------------+-------------------------------------------------------------------------------+------------------------------------------------------------------------------+\n",
       "|   Index | Email                 | Object Name           | Private URL                                                                   | Mock URL                                                                     |\n",
       "+=========+=======================+=======================+===============================================================================+==============================================================================+\n",
       "|       0 | liamtrask@gmail.com   | Syft Object           | syft://liamtrask@gmail.com/private/objects/Syft Object_private.txt            | syft://liamtrask@gmail.com/public/objects/Syft Object_private.txt            |\n",
       "+---------+-----------------------+-----------------------+-------------------------------------------------------------------------------+------------------------------------------------------------------------------+\n",
       "|       1 | liamtrask@gmail.com   | debug_test            | syft://liamtrask@gmail.com/private/objects/debug_test_f021160c.txt            | syft://liamtrask@gmail.com/public/objects/debug_test_f021160c.txt            |\n",
       "+---------+-----------------------+-----------------------+-------------------------------------------------------------------------------+------------------------------------------------------------------------------+\n",
       "|       2 | liamtrask@gmail.com   | no_warning_test       | syft://liamtrask@gmail.com/private/objects/no_warning_test_921e8e9d.txt       | syft://liamtrask@gmail.com/public/objects/no_warning_test_921e8e9d.txt       |\n",
       "+---------+-----------------------+-----------------------+-------------------------------------------------------------------------------+------------------------------------------------------------------------------+\n",
       "|       3 | liamtrask@gmail.com   | mock_permissions_test | syft://liamtrask@gmail.com/private/objects/mock_permissions_test_1bc13f82.txt | syft://liamtrask@gmail.com/public/objects/mock_permissions_test_1bc13f82.txt |\n",
       "+---------+-----------------------+-----------------------+-------------------------------------------------------------------------------+------------------------------------------------------------------------------+\n",
       "|       4 | liamtrask@gmail.com   | traceback_test        | syft://liamtrask@gmail.com/private/objects/traceback_test_f3225d4f.txt        | syft://liamtrask@gmail.com/public/objects/traceback_test_f3225d4f.txt        |\n",
       "+---------+-----------------------+-----------------------+-------------------------------------------------------------------------------+------------------------------------------------------------------------------+\n",
       "|       5 | liamtrask@gmail.com   | debug_perms           | syft://liamtrask@gmail.com/private/objects/debug_perms_9007f8eb.txt           | syft://liamtrask@gmail.com/public/objects/debug_perms_9007f8eb.txt           |\n",
       "+---------+-----------------------+-----------------------+-------------------------------------------------------------------------------+------------------------------------------------------------------------------+\n",
       "|       6 | liamtrask@gmail.com   | mock_permissions_test | syft://liamtrask@gmail.com/private/objects/mock_permissions_test_e61b098d.txt | syft://liamtrask@gmail.com/public/objects/mock_permissions_test_e61b098d.txt |\n",
       "+---------+-----------------------+-----------------------+-------------------------------------------------------------------------------+------------------------------------------------------------------------------+\n",
       "|       7 | liamtrask@gmail.com   | Q5 Sales Analysis     | syft://liamtrask@gmail.com/private/objects/q5_sales_analysis_02a0c4e8.txt     | syft://liamtrask@gmail.com/public/objects/q5_sales_analysis_02a0c4e8.txt     |\n",
       "+---------+-----------------------+-----------------------+-------------------------------------------------------------------------------+------------------------------------------------------------------------------+\n",
       "|       8 | liamtrask@gmail.com   | mock_permissions_test | syft://liamtrask@gmail.com/private/objects/mock_permissions_test_4d904a3a.txt | syft://liamtrask@gmail.com/public/objects/mock_permissions_test_4d904a3a.txt |\n",
       "+---------+-----------------------+-----------------------+-------------------------------------------------------------------------------+------------------------------------------------------------------------------+\n",
       "|       9 | liamtrask@gmail.com   | Q4 Sales Analysis     | syft://liamtrask@gmail.com/private/objects/q4_sales_analysis_4187b903.txt     | syft://liamtrask@gmail.com/public/objects/q4_sales_analysis_4187b903.txt     |\n",
       "+---------+-----------------------+-----------------------+-------------------------------------------------------------------------------+------------------------------------------------------------------------------+\n",
       "|      10 | liamtrask@gmail.com   | no_warning_final      | syft://liamtrask@gmail.com/private/objects/no_warning_final_8c994d18.txt      | syft://liamtrask@gmail.com/public/objects/no_warning_final_8c994d18.txt      |\n",
       "+---------+-----------------------+-----------------------+-------------------------------------------------------------------------------+------------------------------------------------------------------------------+\n",
       "|      11 | liamtrask@gmail.com   | test_api              | syft://liamtrask@gmail.com/private/objects/test_api_37142251.txt              | syft://liamtrask@gmail.com/public/objects/test_api_37142251.txt              |\n",
       "+---------+-----------------------+-----------------------+-------------------------------------------------------------------------------+------------------------------------------------------------------------------+\n",
       "|      12 | liamtrask@gmail.com   | debug_test            | syft://liamtrask@gmail.com/private/objects/debug_test_5601e07a.txt            | syft://liamtrask@gmail.com/public/objects/debug_test_5601e07a.txt            |\n",
       "+---------+-----------------------+-----------------------+-------------------------------------------------------------------------------+------------------------------------------------------------------------------+\n",
       "|      13 | liamtrask@gmail.com   | with_private_move     | syft://liamtrask@gmail.com/private/objects/with_private_move_60f8cebf.txt     | syft://liamtrask@gmail.com/public/objects/with_private_move_60f8cebf.txt     |\n",
       "+---------+-----------------------+-----------------------+-------------------------------------------------------------------------------+------------------------------------------------------------------------------+\n",
       "|      14 | liamtrask@gmail.com   | final_mock_test       | syft://liamtrask@gmail.com/private/objects/final_mock_test_6548bc72.txt       | syft://liamtrask@gmail.com/public/objects/final_mock_test_6548bc72.txt       |\n",
       "+---------+-----------------------+-----------------------+-------------------------------------------------------------------------------+------------------------------------------------------------------------------+\n",
       "|      15 | liamtrask@gmail.com   | Mock Permissions Test | syft://liamtrask@gmail.com/private/objects/mock_permissions_test_dc5bb850.txt | syft://liamtrask@gmail.com/public/objects/mock_permissions_test_dc5bb850.txt |\n",
       "+---------+-----------------------+-----------------------+-------------------------------------------------------------------------------+------------------------------------------------------------------------------+\n",
       "|      16 | jajif89762@ofacer.com | NetflixViewingHistory | syft://jajif89762@ofacer.com/private/objects/NetflixViewingHistory.csv        | syft://jajif89762@ofacer.com/public/objects/NetflixViewingHistory.csv        |\n",
       "+---------+-----------------------+-----------------------+-------------------------------------------------------------------------------+------------------------------------------------------------------------------+"
      ]
     },
     "execution_count": 14,
     "metadata": {},
     "output_type": "execute_result"
    }
   ],
   "source": [
    "so.objects"
   ]
  },
  {
   "cell_type": "code",
   "execution_count": 15,
   "id": "f9c53d11-192d-47df-9d85-a46fcb0b4ccc",
   "metadata": {},
   "outputs": [],
   "source": [
    "# !uv pip install -e ."
   ]
  },
  {
   "cell_type": "code",
   "execution_count": 16,
   "id": "32c96e31-9391-476f-b7db-3762f21a3509",
   "metadata": {},
   "outputs": [],
   "source": [
    "import syft_objects as so"
   ]
  },
  {
   "cell_type": "code",
   "execution_count": 19,
   "id": "cbbb5680-2230-4156-8715-c6d0ed777e86",
   "metadata": {},
   "outputs": [
    {
     "data": {
      "text/plain": [
       "'0.10.31'"
      ]
     },
     "execution_count": 19,
     "metadata": {},
     "output_type": "execute_result"
    }
   ],
   "source": [
    "so.__version__"
   ]
  },
  {
   "cell_type": "code",
   "execution_count": 20,
   "id": "1813ecd7-e854-4f88-8966-355c12b325d8",
   "metadata": {},
   "outputs": [
    {
     "name": "stdout",
     "output_type": "stream",
     "text": [
      "\n",
      "💡 Mock note suggestion: '1 lines'\n",
      "   To add this note, run: so.objects['a285d566-de34-4ff9-87b1-787b6a570c5b'].mock.set_note('1 lines')\n",
      "   Or set config.mock_note_sensitivity = 'always' to auto-add suggestions\n",
      "\n"
     ]
    }
   ],
   "source": [
    "analysis = so.create_object(\n",
    "    name=\"Q5 Sales Analysis\",\n",
    "    mock_contents=\"Revenue up 10% to $2.5M\",         # What others see\n",
    "    private_contents=\"Revenue: $2,547,891.23\",       # What you see\n",
    "    move_files_to_syftbox=False                      # NEW: Keep files in original location\n",
    ")"
   ]
  },
  {
   "cell_type": "code",
   "execution_count": 4,
   "id": "4e8459ea-c56f-4247-8779-cdfb2d673c50",
   "metadata": {},
   "outputs": [
    {
     "data": {
      "text/plain": [
       "['*']"
      ]
     },
     "execution_count": 4,
     "metadata": {},
     "output_type": "execute_result"
    }
   ],
   "source": [
    "analysis.get_discovery_permissions()"
   ]
  },
  {
   "cell_type": "code",
   "execution_count": 5,
   "id": "970da69a-4bb4-4e9e-b7e7-cfb627a2b5b3",
   "metadata": {},
   "outputs": [],
   "source": [
    "# analysis.set_discovery_permissions(['andrew@openmined.org'])"
   ]
  },
  {
   "cell_type": "code",
   "execution_count": 21,
   "id": "eb265134-bb9d-4e37-86c7-e213f6758ba5",
   "metadata": {},
   "outputs": [
    {
     "data": {
      "text/plain": [
       "['*']"
      ]
     },
     "execution_count": 21,
     "metadata": {},
     "output_type": "execute_result"
    }
   ],
   "source": [
    "analysis.mock.get_read_permissions()"
   ]
  },
  {
   "cell_type": "code",
   "execution_count": 23,
   "id": "57215625-7d78-4387-89b0-552edf5af845",
   "metadata": {},
   "outputs": [],
   "source": [
    "analysis.mock.set_read_permissions(['*'])\n",
    "# analysis.mock.set_read_permissions(['liamtrask@gmail.com'])"
   ]
  },
  {
   "cell_type": "code",
   "execution_count": 23,
   "id": "0325759b-72f3-4542-90f4-e9f0483c5d28",
   "metadata": {},
   "outputs": [
    {
     "data": {
      "text/plain": [
       "['*']"
      ]
     },
     "execution_count": 23,
     "metadata": {},
     "output_type": "execute_result"
    }
   ],
   "source": [
    "analysis.mock.get_read_permissions()"
   ]
  },
  {
   "cell_type": "code",
   "execution_count": 26,
   "id": "78486118-19f8-49d9-a7c9-a93ba35a6f1a",
   "metadata": {},
   "outputs": [
    {
     "data": {
      "text/plain": [
       "['liamtrask@gmail.com']"
      ]
     },
     "execution_count": 26,
     "metadata": {},
     "output_type": "execute_result"
    }
   ],
   "source": [
    "analysis.mock.get_write_permissions()"
   ]
  },
  {
   "cell_type": "code",
   "execution_count": 27,
   "id": "f1edad0a-b400-4b68-bf3f-cf3bb3fa82cf",
   "metadata": {},
   "outputs": [],
   "source": [
    "analysis.mock.set_write_permissions(['*'])"
   ]
  },
  {
   "cell_type": "code",
   "execution_count": 28,
   "id": "f6d85a51-1885-4a69-a59b-a8c377077c60",
   "metadata": {},
   "outputs": [
    {
     "data": {
      "text/plain": [
       "['*']"
      ]
     },
     "execution_count": 28,
     "metadata": {},
     "output_type": "execute_result"
    }
   ],
   "source": [
    "analysis.mock.get_write_permissions()"
   ]
  },
  {
   "cell_type": "markdown",
   "id": "20336a69-fd3b-439a-bad7-9e96fd8f3a3e",
   "metadata": {},
   "source": [
    "# analysis.delete_obj()"
   ]
  },
  {
   "cell_type": "code",
   "execution_count": 12,
   "id": "8a8d6e97-a9ea-4db4-87e3-603ce569a750",
   "metadata": {},
   "outputs": [
    {
     "data": {
      "text/html": [
       "\n",
       "            <div style=\"width: 100%; height: 420px; border: 1px solid #e5e7eb; border-radius: 8px; overflow: hidden;\">\n",
       "                <iframe src=\"http://localhost:57482/api/object/7bb28102-65c3-4cc9-988f-4bea0cb64d09/view\" style=\"width: 100%; height: 100%; border: none;\"></iframe>\n",
       "            </div>\n",
       "            "
      ],
      "text/plain": [
       "<SyftObject uid=7bb28102-65c3-4cc9-988f-4bea0cb64d09 name='Q4 Sales Analysis'>"
      ]
     },
     "execution_count": 12,
     "metadata": {},
     "output_type": "execute_result"
    }
   ],
   "source": [
    "analysis"
   ]
  },
  {
   "cell_type": "code",
   "execution_count": null,
   "id": "38a55126-8e54-4436-b081-13d3b8d21e70",
   "metadata": {},
   "outputs": [],
   "source": []
  }
 ],
 "metadata": {
  "kernelspec": {
   "display_name": "Python 3 (ipykernel)",
   "language": "python",
   "name": "python3"
  },
  "language_info": {
   "codemirror_mode": {
    "name": "ipython",
    "version": 3
   },
   "file_extension": ".py",
   "mimetype": "text/x-python",
   "name": "python",
   "nbconvert_exporter": "python",
   "pygments_lexer": "ipython3",
   "version": "3.12.7"
  }
 },
 "nbformat": 4,
 "nbformat_minor": 5
}
