{
 "cells": [
  {
   "cell_type": "code",
   "execution_count": 1,
   "id": "29fca003-9d43-48d9-bfc5-ea4ac6f83e69",
   "metadata": {},
   "outputs": [],
   "source": [
    "import syft_objects as so"
   ]
  },
  {
   "cell_type": "code",
   "execution_count": 7,
   "id": "57357878-1d4b-45b0-a653-e6e5510dab3e",
   "metadata": {},
   "outputs": [
    {
     "data": {
      "text/html": [
       "\n",
       "        <iframe \n",
       "            src=\"http://localhost:54470/widget\" \n",
       "            width=\"100%\" \n",
       "            height=\"400px\"\n",
       "            frameborder=\"0\"\n",
       "            style=\"border: none;\"\n",
       "            title=\"SyftObjects Widget\">\n",
       "        </iframe>\n",
       "        "
      ],
      "text/plain": [
       "+---------+-----------------------+-----------------------+------------------------------------------------------------------------------+-----------------------------------------------------------------------------+\n",
       "|   Index | Email                 | Object Name           | Private URL                                                                  | Mock URL                                                                    |\n",
       "+=========+=======================+=======================+==============================================================================+=============================================================================+\n",
       "|       0 | liamtrask@gmail.com   | Q5 Sales Analysis!!!  | syft://liamtrask@gmail.com/private/objects/q5_sales_analysis!!!_79ea5a01.txt | syft://liamtrask@gmail.com/public/objects/q5_sales_analysis!!!_79ea5a01.txt |\n",
       "+---------+-----------------------+-----------------------+------------------------------------------------------------------------------+-----------------------------------------------------------------------------+\n",
       "|       1 | liamtrask@gmail.com   | test                  | syft://liamtrask@gmail.com/private/objects/test_befcd707.txt                 | syft://liamtrask@gmail.com/public/objects/test_befcd707.txt                 |\n",
       "+---------+-----------------------+-----------------------+------------------------------------------------------------------------------+-----------------------------------------------------------------------------+\n",
       "|       2 | liamtrask@gmail.com   | test_data             | syft://liamtrask@gmail.com/private/objects/test_data_998873d1.txt            | syft://liamtrask@gmail.com/public/objects/test_data_998873d1.txt            |\n",
       "+---------+-----------------------+-----------------------+------------------------------------------------------------------------------+-----------------------------------------------------------------------------+\n",
       "|       3 | liamtrask@gmail.com   | Q5 Sales Analysis     | syft://liamtrask@gmail.com/private/objects/q5_sales_analysis_a285d566.txt    | syft://liamtrask@gmail.com/public/objects/q5_sales_analysis_a285d566.txt    |\n",
       "+---------+-----------------------+-----------------------+------------------------------------------------------------------------------+-----------------------------------------------------------------------------+\n",
       "|       4 | liamtrask@gmail.com   | test_data             | syft://liamtrask@gmail.com/private/objects/test_data_c36dcc7b.txt            | syft://liamtrask@gmail.com/public/objects/test_data_c36dcc7b.txt            |\n",
       "+---------+-----------------------+-----------------------+------------------------------------------------------------------------------+-----------------------------------------------------------------------------+\n",
       "|       5 | jajif89762@ofacer.com | NetflixViewingHistory | syft://jajif89762@ofacer.com/private/objects/NetflixViewingHistory.csv       | syft://jajif89762@ofacer.com/public/objects/NetflixViewingHistory.csv       |\n",
       "+---------+-----------------------+-----------------------+------------------------------------------------------------------------------+-----------------------------------------------------------------------------+"
      ]
     },
     "execution_count": 7,
     "metadata": {},
     "output_type": "execute_result"
    }
   ],
   "source": [
    "so.objects"
   ]
  },
  {
   "cell_type": "code",
   "execution_count": 15,
   "id": "f9c53d11-192d-47df-9d85-a46fcb0b4ccc",
   "metadata": {},
   "outputs": [],
   "source": [
    "# !uv pip install -e ."
   ]
  },
  {
   "cell_type": "code",
   "execution_count": 1,
   "id": "32c96e31-9391-476f-b7db-3762f21a3509",
   "metadata": {},
   "outputs": [],
   "source": [
    "import syft_objects as so"
   ]
  },
  {
   "cell_type": "code",
   "execution_count": 19,
   "id": "cbbb5680-2230-4156-8715-c6d0ed777e86",
   "metadata": {},
   "outputs": [
    {
     "data": {
      "text/plain": [
       "'0.10.31'"
      ]
     },
     "execution_count": 19,
     "metadata": {},
     "output_type": "execute_result"
    }
   ],
   "source": [
    "so.__version__"
   ]
  },
  {
   "cell_type": "code",
   "execution_count": 34,
   "id": "9deeb240-6375-4fa2-88a1-9eb6c80f2ee9",
   "metadata": {},
   "outputs": [
    {
     "data": {
      "text/plain": [
       "\u001b[31mSignature:\u001b[39m so.create_object(name=\u001b[38;5;28;01mNone\u001b[39;00m, *, move_files_to_syftbox=\u001b[38;5;28;01mNone\u001b[39;00m, **kwargs)\n",
       "\u001b[31mDocstring:\u001b[39m\n",
       "Create a new SyftObject with explicit naming.\n",
       "\n",
       "Creates a new SyftObject with the specified parameters.\n",
       "\n",
       "Args:\n",
       "    name: Optional name for the object\n",
       "    **kwargs: All the same arguments as syobj:\n",
       "        - private_contents: String content for private file\n",
       "        - mock_contents: String content for mock file\n",
       "        - private_file: Path to private file\n",
       "        - mock_file: Path to mock file\n",
       "        - private_folder: Path to private folder\n",
       "        - mock_folder: Path to mock folder\n",
       "        - discovery_read: List of who can discover\n",
       "        - mock_read: List of who can read mock\n",
       "        - mock_write: List of who can write mock\n",
       "        - private_read: List of who can read private\n",
       "        - private_write: List of who can write private\n",
       "        - metadata: Additional metadata dict\n",
       "        - skip_validation: Skip mock/real file validation\n",
       "        - mock_note: Optional note explaining mock data differences\n",
       "        - suggest_mock_notes: Whether to suggest mock notes (None uses config)\n",
       "        - move_files_to_syftbox: Whether to copy/move files to SyftBox (default: False)\n",
       "            - When True: User files are copied, generated files are moved\n",
       "            - When False: Files stay in their original locations\n",
       "\n",
       "Returns:\n",
       "    SyftObject: The newly created object\n",
       "\u001b[31mFile:\u001b[39m      ~/Documents/GitHub/syft-objects/src/syft_objects/__init__.py\n",
       "\u001b[31mType:\u001b[39m      function"
      ]
     },
     "metadata": {},
     "output_type": "display_data"
    }
   ],
   "source": [
    "so.create_object?"
   ]
  },
  {
   "cell_type": "code",
   "execution_count": 1,
   "id": "ede08487-5856-4a79-ac0d-97b03ad832dd",
   "metadata": {},
   "outputs": [],
   "source": [
    "import syft_objects as so"
   ]
  },
  {
   "cell_type": "code",
   "execution_count": 4,
   "id": "1813ecd7-e854-4f88-8966-355c12b325d8",
   "metadata": {},
   "outputs": [
    {
     "name": "stdout",
     "output_type": "stream",
     "text": [
      "\n",
      "💡 Mock note suggestion: '1 lines'\n",
      "   To add this note, run: so.objects['89a39432-6ab6-486f-ba7a-c7548c8b3115'].mock.set_note('1 lines')\n",
      "   Or set config.mock_note_sensitivity = 'always' to auto-add suggestions\n",
      "\n"
     ]
    }
   ],
   "source": [
    "analysis = so.create_object(\n",
    "    name=\"Q5 Sales Analysissss\",\n",
    "    mock_contents=\"Revenue up 10% to $2.5M\",         # What others see\n",
    "    private_contents=\"Revenue: $2,547,891.23\",       # What you see\n",
    "    discovery_read=['liamtrask@gmail.com'],\n",
    "    move_files_to_syftbox=False                      # NEW: Keep files in original location\n",
    ")"
   ]
  },
  {
   "cell_type": "code",
   "execution_count": 4,
   "id": "4e8459ea-c56f-4247-8779-cdfb2d673c50",
   "metadata": {},
   "outputs": [
    {
     "data": {
      "text/plain": [
       "['*']"
      ]
     },
     "execution_count": 4,
     "metadata": {},
     "output_type": "execute_result"
    }
   ],
   "source": [
    "analysis.get_discovery_permissions()"
   ]
  },
  {
   "cell_type": "code",
   "execution_count": 5,
   "id": "970da69a-4bb4-4e9e-b7e7-cfb627a2b5b3",
   "metadata": {},
   "outputs": [],
   "source": [
    "# analysis.set_discovery_permissions(['andrew@openmined.org'])"
   ]
  },
  {
   "cell_type": "code",
   "execution_count": 21,
   "id": "eb265134-bb9d-4e37-86c7-e213f6758ba5",
   "metadata": {},
   "outputs": [
    {
     "data": {
      "text/plain": [
       "['*']"
      ]
     },
     "execution_count": 21,
     "metadata": {},
     "output_type": "execute_result"
    }
   ],
   "source": [
    "analysis.mock.get_read_permissions()"
   ]
  },
  {
   "cell_type": "code",
   "execution_count": 23,
   "id": "57215625-7d78-4387-89b0-552edf5af845",
   "metadata": {},
   "outputs": [],
   "source": [
    "analysis.mock.set_read_permissions(['*'])\n",
    "# analysis.mock.set_read_permissions(['liamtrask@gmail.com'])"
   ]
  },
  {
   "cell_type": "code",
   "execution_count": 23,
   "id": "0325759b-72f3-4542-90f4-e9f0483c5d28",
   "metadata": {},
   "outputs": [
    {
     "data": {
      "text/plain": [
       "['*']"
      ]
     },
     "execution_count": 23,
     "metadata": {},
     "output_type": "execute_result"
    }
   ],
   "source": [
    "analysis.mock.get_read_permissions()"
   ]
  },
  {
   "cell_type": "code",
   "execution_count": 26,
   "id": "78486118-19f8-49d9-a7c9-a93ba35a6f1a",
   "metadata": {},
   "outputs": [
    {
     "data": {
      "text/plain": [
       "['liamtrask@gmail.com']"
      ]
     },
     "execution_count": 26,
     "metadata": {},
     "output_type": "execute_result"
    }
   ],
   "source": [
    "analysis.mock.get_write_permissions()"
   ]
  },
  {
   "cell_type": "code",
   "execution_count": 27,
   "id": "f1edad0a-b400-4b68-bf3f-cf3bb3fa82cf",
   "metadata": {},
   "outputs": [],
   "source": [
    "analysis.mock.set_write_permissions(['*'])"
   ]
  },
  {
   "cell_type": "code",
   "execution_count": 28,
   "id": "f6d85a51-1885-4a69-a59b-a8c377077c60",
   "metadata": {},
   "outputs": [
    {
     "data": {
      "text/plain": [
       "['*']"
      ]
     },
     "execution_count": 28,
     "metadata": {},
     "output_type": "execute_result"
    }
   ],
   "source": [
    "analysis.mock.get_write_permissions()"
   ]
  },
  {
   "cell_type": "markdown",
   "id": "20336a69-fd3b-439a-bad7-9e96fd8f3a3e",
   "metadata": {},
   "source": [
    "# analysis.delete_obj()"
   ]
  },
  {
   "cell_type": "code",
   "execution_count": 8,
   "id": "8a8d6e97-a9ea-4db4-87e3-603ce569a750",
   "metadata": {},
   "outputs": [
    {
     "ename": "NameError",
     "evalue": "name 'analysis' is not defined",
     "output_type": "error",
     "traceback": [
      "\u001b[31m---------------------------------------------------------------------------\u001b[39m",
      "\u001b[31mNameError\u001b[39m                                 Traceback (most recent call last)",
      "\u001b[36mCell\u001b[39m\u001b[36m \u001b[39m\u001b[32mIn[8]\u001b[39m\u001b[32m, line 1\u001b[39m\n\u001b[32m----> \u001b[39m\u001b[32m1\u001b[39m \u001b[43manalysis\u001b[49m\n",
      "\u001b[31mNameError\u001b[39m: name 'analysis' is not defined"
     ]
    }
   ],
   "source": [
    "analysis"
   ]
  },
  {
   "cell_type": "code",
   "execution_count": null,
   "id": "38a55126-8e54-4436-b081-13d3b8d21e70",
   "metadata": {},
   "outputs": [],
   "source": []
  }
 ],
 "metadata": {
  "kernelspec": {
   "display_name": "Python 3 (ipykernel)",
   "language": "python",
   "name": "python3"
  },
  "language_info": {
   "codemirror_mode": {
    "name": "ipython",
    "version": 3
   },
   "file_extension": ".py",
   "mimetype": "text/x-python",
   "name": "python",
   "nbconvert_exporter": "python",
   "pygments_lexer": "ipython3",
   "version": "3.12.7"
  }
 },
 "nbformat": 4,
 "nbformat_minor": 5
}
