{
 "cells": [
  {
   "cell_type": "code",
   "execution_count": 1,
   "id": "5290c823-dc54-43c6-a1b9-76a9986ca533",
   "metadata": {},
   "outputs": [],
   "source": [
    "import syft_objects as so"
   ]
  },
  {
   "cell_type": "code",
   "execution_count": 2,
   "id": "8bd15355-5177-4fd4-8e0a-42458fdc2eca",
   "metadata": {},
   "outputs": [
    {
     "data": {
      "text/plain": [
       "'0.10.49'"
      ]
     },
     "execution_count": 2,
     "metadata": {},
     "output_type": "execute_result"
    }
   ],
   "source": [
    "so.__version__"
   ]
  },
  {
   "cell_type": "code",
   "execution_count": null,
   "id": "20dbfb15-8f21-4345-b868-f2ee0b7f4a23",
   "metadata": {},
   "outputs": [],
   "source": []
  },
  {
   "cell_type": "code",
   "execution_count": 5,
   "id": "7336f997-a7e3-41c2-a1a5-236e6f3df166",
   "metadata": {},
   "outputs": [],
   "source": [
    "\n",
    "import os\n",
    "import shutil\n",
    "\n",
    "# Clean up any existing test folders\n",
    "if os.path.exists(\"test_mock_folder\"):\n",
    "  shutil.rmtree(\"test_mock_folder\")\n",
    "if os.path.exists(\"test_private_folder\"):\n",
    "  shutil.rmtree(\"test_private_folder\")\n",
    "\n",
    "# Create mock folder structure\n",
    "os.makedirs(\"test_mock_folder/data\", exist_ok=True)\n",
    "os.makedirs(\"test_mock_folder/models\", exist_ok=True)\n",
    "os.makedirs(\"test_mock_folder/reports\", exist_ok=True)\n",
    "\n",
    "# Add mock files\n",
    "with open(\"test_mock_folder/README.md\", \"w\") as f:\n",
    "  f.write(\"# Demo Project\\nThis is a demo with synthetic data\")\n",
    "\n",
    "with open(\"test_mock_folder/data/sample.csv\", \"w\") as f:\n",
    "  f.write(\"id,value\\n1,100\\n2,200\\n3,300\")\n",
    "\n",
    "with open(\"test_mock_folder/models/model.txt\", \"w\") as f:\n",
    "  f.write(\"Mock model weights: [0.1, 0.2, 0.3]\")\n",
    "\n",
    "with open(\"test_mock_folder/reports/summary.txt\", \"w\") as f:\n",
    "  f.write(\"Demo Summary: 3 samples processed\")\n",
    "\n",
    "# Create private folder structure\n",
    "os.makedirs(\"test_private_folder/data\", exist_ok=True)\n",
    "os.makedirs(\"test_private_folder/models\", exist_ok=True)\n",
    "os.makedirs(\"test_private_folder/reports\", exist_ok=True)\n",
    "\n",
    "# Add private files\n",
    "with open(\"test_private_folder/README.md\", \"w\") as f:\n",
    "  f.write(\"# Production Project\\nReal customer data - CONFIDENTIAL\")\n",
    "\n",
    "with open(\"test_private_folder/data/customers.csv\", \"w\") as f:\n",
    "  f.write(\"id,name,value,ssn\\n1,John Doe,15000,123-45-6789\\n2,Jane Smith,25000,987-65-4321\")\n",
    "\n",
    "with open(\"test_private_folder/models/model.pkl\", \"w\") as f:\n",
    "  f.write(\"Real model weights: [0.127, 0.234, 0.389, 0.445, 0.667]\")\n",
    "\n",
    "with open(\"test_private_folder/reports/financial.txt\", \"w\") as f:\n",
    "  f.write(\"Q4 Revenue: $2,547,891.23\\nProfit Margin: 23.7%\")\n",
    "\n",
    "\n",
    "# Create the folder syft object with different permission levels\n",
    "folder_obj = so.create_object(\n",
    "  name=\"Test ML Project 34\",\n",
    "  mock_folder=\"test_mock_folder/\",\n",
    "  private_folder=\"test_private_folder/\",\n",
    "\n",
    "  # Permission testing - different users see different things\n",
    "  discovery_read=[\"liamtrask@gmail.com\"],                    # Everyone can discover it exists\n",
    "  mock_read=[\"liamtrask@gmail.com\"],             # Interns can see mock\n",
    "  mock_write=[\"liamtrask@gmail.com\"],                                # No one can edit mock\n",
    "  private_read=[\"liamrask@gmail.com\"],             # Only CTO sees real data\n",
    "  private_write=[\"liamtrask@gmail.com\", \"admin@company.com\"],  # CTO & admin can edit\n",
    "\n",
    "  mock_note=\"Demo version with synthetic data, no PII or financial info\",\n",
    "  metadata={\n",
    "      \"project_type\": \"machine_learning\",\n",
    "      \"sensitivity\": \"high\",\n",
    "      \"department\": \"data_science\"\n",
    "  }\n",
    ")\n",
    "\n",
    "folder_obj"
   ]
  },
  {
   "cell_type": "code",
   "execution_count": 3,
   "id": "81b26481-3e7f-4e08-b140-e79c3bde5b04",
   "metadata": {},
   "outputs": [
    {
     "data": {
      "text/html": [
       "\n",
       "            <div style=\"width: 100%; height: 420px; border: 1px solid #e5e7eb; border-radius: 8px; overflow: hidden;\">\n",
       "                <iframe src=\"http://localhost:8004/api/object/1997c65f-b055-4d4f-ba15-590b67379fae/view\" style=\"width: 100%; height: 100%; border: none;\"></iframe>\n",
       "            </div>\n",
       "            "
      ],
      "text/plain": [
       "<SyftObject uid=1997c65f-b055-4d4f-ba15-590b67379fae name='Test ML Project 34'>"
      ]
     },
     "execution_count": 3,
     "metadata": {},
     "output_type": "execute_result"
    }
   ],
   "source": []
  },
  {
   "cell_type": "code",
   "execution_count": 4,
   "id": "76c92ace-75ca-45f4-b1d9-5207e47f7bf4",
   "metadata": {},
   "outputs": [
    {
     "data": {
      "text/html": [
       "\n",
       "        <iframe \n",
       "            src=\"http://localhost:8004/widget/\" \n",
       "            width=\"100%\" \n",
       "            height=\"400px\"\n",
       "            frameborder=\"0\"\n",
       "            style=\"border: none;\"\n",
       "            title=\"SyftObjects Widget\">\n",
       "        </iframe>\n",
       "        "
      ],
      "text/plain": [
       "+---------+---------------------+-----------------------------------+-------------------------------------------------------------------------+------------------------------------------------------------------------+\n",
       "|   Index | Email               | Object Name                       | Private URL                                                             | Mock URL                                                               |\n",
       "+=========+=====================+===================================+=========================================================================+========================================================================+\n",
       "|       0 | unknown@example.com | ABC123                            |                                                                         |                                                                        |\n",
       "+---------+---------------------+-----------------------------------+-------------------------------------------------------------------------+------------------------------------------------------------------------+\n",
       "|       1 | unknown@example.com | ABC123                            |                                                                         |                                                                        |\n",
       "+---------+---------------------+-----------------------------------+-------------------------------------------------------------------------+------------------------------------------------------------------------+\n",
       "|       2 | liamtrask@gmail.com | Test ML Project 34                | syft://liamtrask@gmail.com/private/objects/test_ml_project_34_e43f829d/ | syft://liamtrask@gmail.com/public/objects/test_ml_project_34_e43f829d/ |\n",
       "+---------+---------------------+-----------------------------------+-------------------------------------------------------------------------+------------------------------------------------------------------------+\n",
       "|       3 | liamtrask@gmail.com | ABC123                            | syft://liamtrask@gmail.com/private/objects/abc123_0c9ce90b/             | syft://liamtrask@gmail.com/public/objects/abc123_0c9ce90b/             |\n",
       "+---------+---------------------+-----------------------------------+-------------------------------------------------------------------------+------------------------------------------------------------------------+\n",
       "|       4 | unknown@example.com | Test Accessors                    |                                                                         |                                                                        |\n",
       "+---------+---------------------+-----------------------------------+-------------------------------------------------------------------------+------------------------------------------------------------------------+\n",
       "|       5 | unknown@example.com | ABC123                            |                                                                         |                                                                        |\n",
       "+---------+---------------------+-----------------------------------+-------------------------------------------------------------------------+------------------------------------------------------------------------+\n",
       "|       6 | unknown@example.com | TESTMOCKREADCANTSEE               |                                                                         |                                                                        |\n",
       "+---------+---------------------+-----------------------------------+-------------------------------------------------------------------------+------------------------------------------------------------------------+\n",
       "|       7 | liamtrask@gmail.com | ABC123                            | syft://liamtrask@gmail.com/private/objects/abc123_a81be24d/             | syft://liamtrask@gmail.com/public/objects/abc123_a81be24d/             |\n",
       "+---------+---------------------+-----------------------------------+-------------------------------------------------------------------------+------------------------------------------------------------------------+\n",
       "|       8 | unknown@example.com | ABC123                            |                                                                         |                                                                        |\n",
       "+---------+---------------------+-----------------------------------+-------------------------------------------------------------------------+------------------------------------------------------------------------+\n",
       "|       9 | unknown@example.com | TESTMOCKREADCANTSEE               |                                                                         |                                                                        |\n",
       "+---------+---------------------+-----------------------------------+-------------------------------------------------------------------------+------------------------------------------------------------------------+\n",
       "|      10 | unknown@example.com | TESTMOCKREADCANTSEE               |                                                                         |                                                                        |\n",
       "+---------+---------------------+-----------------------------------+-------------------------------------------------------------------------+------------------------------------------------------------------------+\n",
       "|      11 | unknown@example.com | TEST MOCK FOLDER READ CANT SEE v2 |                                                                         |                                                                        |\n",
       "+---------+---------------------+-----------------------------------+-------------------------------------------------------------------------+------------------------------------------------------------------------+\n",
       "|      12 | liamtrask@gmail.com | Test ML Project 34                | syft://liamtrask@gmail.com/private/objects/test_ml_project_34_a6ec464a/ | syft://liamtrask@gmail.com/public/objects/test_ml_project_34_a6ec464a/ |\n",
       "+---------+---------------------+-----------------------------------+-------------------------------------------------------------------------+------------------------------------------------------------------------+\n",
       "|      13 | liamtrask@gmail.com | ABC123                            | syft://liamtrask@gmail.com/private/objects/abc123_83d35137/             | syft://liamtrask@gmail.com/public/objects/abc123_83d35137/             |\n",
       "+---------+---------------------+-----------------------------------+-------------------------------------------------------------------------+------------------------------------------------------------------------+\n",
       "|      14 | unknown@example.com | ABC123                            |                                                                         |                                                                        |\n",
       "+---------+---------------------+-----------------------------------+-------------------------------------------------------------------------+------------------------------------------------------------------------+\n",
       "|      15 | liamtrask@gmail.com | ABC123                            | syft://liamtrask@gmail.com/private/objects/abc123_8ca7a107/             | syft://liamtrask@gmail.com/public/objects/abc123_8ca7a107/             |\n",
       "+---------+---------------------+-----------------------------------+-------------------------------------------------------------------------+------------------------------------------------------------------------+\n",
       "|      16 | unknown@example.com | ABC123                            |                                                                         |                                                                        |\n",
       "+---------+---------------------+-----------------------------------+-------------------------------------------------------------------------+------------------------------------------------------------------------+\n",
       "|      17 | unknown@example.com | TESTMOCKREADCANTSEE               |                                                                         |                                                                        |\n",
       "+---------+---------------------+-----------------------------------+-------------------------------------------------------------------------+------------------------------------------------------------------------+\n",
       "|      18 | liamtrask@gmail.com | Test ML Project 34                | syft://liamtrask@gmail.com/private/objects/test_ml_project_34_affcd171/ | syft://liamtrask@gmail.com/public/objects/test_ml_project_34_affcd171/ |\n",
       "+---------+---------------------+-----------------------------------+-------------------------------------------------------------------------+------------------------------------------------------------------------+\n",
       "|      19 | liamtrask@gmail.com | Test ML Project 34                | syft://liamtrask@gmail.com/private/objects/test_ml_project_34_1997c65f/ | syft://liamtrask@gmail.com/public/objects/test_ml_project_34_1997c65f/ |\n",
       "+---------+---------------------+-----------------------------------+-------------------------------------------------------------------------+------------------------------------------------------------------------+\n",
       "|      20 | liamtrask@gmail.com | Test ML Project 34                | syft://liamtrask@gmail.com/private/objects/test_ml_project_34_00bee338/ | syft://liamtrask@gmail.com/public/objects/test_ml_project_34_00bee338/ |\n",
       "+---------+---------------------+-----------------------------------+-------------------------------------------------------------------------+------------------------------------------------------------------------+\n",
       "|      21 | unknown@example.com | TESTMOCKREADCANTSEE               |                                                                         |                                                                        |\n",
       "+---------+---------------------+-----------------------------------+-------------------------------------------------------------------------+------------------------------------------------------------------------+\n",
       "|      22 | unknown@example.com | TESTMOCKREADCANTSEE               |                                                                         |                                                                        |\n",
       "+---------+---------------------+-----------------------------------+-------------------------------------------------------------------------+------------------------------------------------------------------------+\n",
       "|      23 | liamtrask@gmail.com | ABC123                            | syft://liamtrask@gmail.com/private/objects/abc123_5ebd7bd6/             | syft://liamtrask@gmail.com/public/objects/abc123_5ebd7bd6/             |\n",
       "+---------+---------------------+-----------------------------------+-------------------------------------------------------------------------+------------------------------------------------------------------------+\n",
       "|      24 | liamtrask@gmail.com | ABC123                            | syft://liamtrask@gmail.com/private/objects/abc123_ba767934/             | syft://liamtrask@gmail.com/public/objects/abc123_ba767934/             |\n",
       "+---------+---------------------+-----------------------------------+-------------------------------------------------------------------------+------------------------------------------------------------------------+\n",
       "|      25 | unknown@example.com | ABC123                            |                                                                         |                                                                        |\n",
       "+---------+---------------------+-----------------------------------+-------------------------------------------------------------------------+------------------------------------------------------------------------+\n",
       "|      26 | liamtrask@gmail.com | ABC123                            | syft://liamtrask@gmail.com/private/objects/abc123_a2b4d106/             | syft://liamtrask@gmail.com/public/objects/abc123_a2b4d106/             |\n",
       "+---------+---------------------+-----------------------------------+-------------------------------------------------------------------------+------------------------------------------------------------------------+\n",
       "|      27 | liamtrask@gmail.com | ABC123                            | syft://liamtrask@gmail.com/private/objects/abc123_a3701f52/             | syft://liamtrask@gmail.com/public/objects/abc123_a3701f52/             |\n",
       "+---------+---------------------+-----------------------------------+-------------------------------------------------------------------------+------------------------------------------------------------------------+\n",
       "|      28 | liamtrask@gmail.com | ABC123                            | syft://liamtrask@gmail.com/private/objects/abc123_6efc6739/             | syft://liamtrask@gmail.com/public/objects/abc123_6efc6739/             |\n",
       "+---------+---------------------+-----------------------------------+-------------------------------------------------------------------------+------------------------------------------------------------------------+\n",
       "|      29 | unknown@example.com | ABC123                            |                                                                         |                                                                        |\n",
       "+---------+---------------------+-----------------------------------+-------------------------------------------------------------------------+------------------------------------------------------------------------+\n",
       "|      30 | liamtrask@gmail.com | ABC123                            | syft://liamtrask@gmail.com/private/objects/abc123_6bae0a58/             | syft://liamtrask@gmail.com/public/objects/abc123_6bae0a58/             |\n",
       "+---------+---------------------+-----------------------------------+-------------------------------------------------------------------------+------------------------------------------------------------------------+\n",
       "|      31 | unknown@example.com | TESTMOCKREADCANTSEE               |                                                                         |                                                                        |\n",
       "+---------+---------------------+-----------------------------------+-------------------------------------------------------------------------+------------------------------------------------------------------------+\n",
       "|      32 | liamtrask@gmail.com | ABC123                            | syft://liamtrask@gmail.com/private/objects/abc123_0dd466ce/             | syft://liamtrask@gmail.com/public/objects/abc123_0dd466ce/             |\n",
       "+---------+---------------------+-----------------------------------+-------------------------------------------------------------------------+------------------------------------------------------------------------+\n",
       "|      33 | unknown@example.com | ABC123                            |                                                                         |                                                                        |\n",
       "+---------+---------------------+-----------------------------------+-------------------------------------------------------------------------+------------------------------------------------------------------------+\n",
       "|      34 | liamtrask@gmail.com | ABC123                            | syft://liamtrask@gmail.com/private/objects/abc123_aa73f071/             | syft://liamtrask@gmail.com/public/objects/abc123_aa73f071/             |\n",
       "+---------+---------------------+-----------------------------------+-------------------------------------------------------------------------+------------------------------------------------------------------------+\n",
       "|      35 | unknown@example.com | NetflixViewingHistory             |                                                                         |                                                                        |\n",
       "+---------+---------------------+-----------------------------------+-------------------------------------------------------------------------+------------------------------------------------------------------------+"
      ]
     },
     "execution_count": 4,
     "metadata": {},
     "output_type": "execute_result"
    }
   ],
   "source": [
    "so.objects"
   ]
  },
  {
   "cell_type": "code",
   "execution_count": null,
   "id": "c9a12c75-ff9d-4038-8910-0e64ae5f4112",
   "metadata": {},
   "outputs": [],
   "source": []
  }
 ],
 "metadata": {
  "kernelspec": {
   "display_name": "Python 3 (ipykernel)",
   "language": "python",
   "name": "python3"
  },
  "language_info": {
   "codemirror_mode": {
    "name": "ipython",
    "version": 3
   },
   "file_extension": ".py",
   "mimetype": "text/x-python",
   "name": "python",
   "nbconvert_exporter": "python",
   "pygments_lexer": "ipython3",
   "version": "3.12.7"
  }
 },
 "nbformat": 4,
 "nbformat_minor": 5
}
