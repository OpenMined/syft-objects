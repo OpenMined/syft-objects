{
 "cells": [
  {
   "cell_type": "code",
   "execution_count": 1,
   "id": "5290c823-dc54-43c6-a1b9-76a9986ca533",
   "metadata": {},
   "outputs": [],
   "source": [
    "import syft_objects as so"
   ]
  },
  {
   "cell_type": "code",
   "execution_count": 2,
   "id": "8bd15355-5177-4fd4-8e0a-42458fdc2eca",
   "metadata": {},
   "outputs": [
    {
     "data": {
      "text/plain": [
       "'0.10.49'"
      ]
     },
     "execution_count": 2,
     "metadata": {},
     "output_type": "execute_result"
    }
   ],
   "source": [
    "so.__version__"
   ]
  },
  {
   "cell_type": "code",
   "execution_count": null,
   "id": "20dbfb15-8f21-4345-b868-f2ee0b7f4a23",
   "metadata": {},
   "outputs": [],
   "source": []
  },
  {
   "cell_type": "code",
   "execution_count": 3,
   "id": "7336f997-a7e3-41c2-a1a5-236e6f3df166",
   "metadata": {},
   "outputs": [],
   "source": [
    "\n",
    "import os\n",
    "import shutil\n",
    "\n",
    "# Clean up any existing test folders\n",
    "if os.path.exists(\"test_mock_folder\"):\n",
    "  shutil.rmtree(\"test_mock_folder\")\n",
    "if os.path.exists(\"test_private_folder\"):\n",
    "  shutil.rmtree(\"test_private_folder\")\n",
    "\n",
    "# Create mock folder structure\n",
    "os.makedirs(\"test_mock_folder/data\", exist_ok=True)\n",
    "os.makedirs(\"test_mock_folder/models\", exist_ok=True)\n",
    "os.makedirs(\"test_mock_folder/reports\", exist_ok=True)\n",
    "\n",
    "# Add mock files\n",
    "with open(\"test_mock_folder/README.md\", \"w\") as f:\n",
    "  f.write(\"# Demo Project\\nThis is a demo with synthetic data\")\n",
    "\n",
    "with open(\"test_mock_folder/data/sample.csv\", \"w\") as f:\n",
    "  f.write(\"id,value\\n1,100\\n2,200\\n3,300\")\n",
    "\n",
    "with open(\"test_mock_folder/models/model.txt\", \"w\") as f:\n",
    "  f.write(\"Mock model weights: [0.1, 0.2, 0.3]\")\n",
    "\n",
    "with open(\"test_mock_folder/reports/summary.txt\", \"w\") as f:\n",
    "  f.write(\"Demo Summary: 3 samples processed\")\n",
    "\n",
    "# Create private folder structure\n",
    "os.makedirs(\"test_private_folder/data\", exist_ok=True)\n",
    "os.makedirs(\"test_private_folder/models\", exist_ok=True)\n",
    "os.makedirs(\"test_private_folder/reports\", exist_ok=True)\n",
    "\n",
    "# Add private files\n",
    "with open(\"test_private_folder/README.md\", \"w\") as f:\n",
    "  f.write(\"# Production Project\\nReal customer data - CONFIDENTIAL\")\n",
    "\n",
    "with open(\"test_private_folder/data/customers.csv\", \"w\") as f:\n",
    "  f.write(\"id,name,value,ssn\\n1,John Doe,15000,123-45-6789\\n2,Jane Smith,25000,987-65-4321\")\n",
    "\n",
    "with open(\"test_private_folder/models/model.pkl\", \"w\") as f:\n",
    "  f.write(\"Real model weights: [0.127, 0.234, 0.389, 0.445, 0.667]\")\n",
    "\n",
    "with open(\"test_private_folder/reports/financial.txt\", \"w\") as f:\n",
    "  f.write(\"Q4 Revenue: $2,547,891.23\\nProfit Margin: 23.7%\")\n"
   ]
  },
  {
   "cell_type": "code",
   "execution_count": 4,
   "id": "81b26481-3e7f-4e08-b140-e79c3bde5b04",
   "metadata": {},
   "outputs": [
    {
     "data": {
      "text/html": [
       "\n",
       "            <div style=\"width: 100%; height: 420px; border: 1px solid #e5e7eb; border-radius: 8px; overflow: hidden;\">\n",
       "                <iframe src=\"http://localhost:8004/api/object/e43f829d-eaac-4596-bd54-88d6feb02f20/view\" style=\"width: 100%; height: 100%; border: none;\"></iframe>\n",
       "            </div>\n",
       "            "
      ],
      "text/plain": [
       "<SyftObject uid=e43f829d-eaac-4596-bd54-88d6feb02f20 name='Test ML Project 34'>"
      ]
     },
     "execution_count": 4,
     "metadata": {},
     "output_type": "execute_result"
    }
   ],
   "source": [
    "\n",
    "# Create the folder syft object with different permission levels\n",
    "folder_obj = so.create_object(\n",
    "  name=\"Test ML Project 34\",\n",
    "  mock_folder=\"test_mock_folder/\",\n",
    "  private_folder=\"test_private_folder/\",\n",
    "\n",
    "  # Permission testing - different users see different things\n",
    "  discovery_read=[\"liamtrask@gmail.com\"],                    # Everyone can discover it exists\n",
    "  mock_read=[\"intern@company.com\"],             # Interns can see mock\n",
    "  mock_write=[],                                # No one can edit mock\n",
    "  private_read=[\"liamrask@gmail.com\"],             # Only CTO sees real data\n",
    "  private_write=[\"liamtrask@gmail.com\", \"admin@company.com\"],  # CTO & admin can edit\n",
    "\n",
    "  mock_note=\"Demo version with synthetic data, no PII or financial info\",\n",
    "  metadata={\n",
    "      \"project_type\": \"machine_learning\",\n",
    "      \"sensitivity\": \"high\",\n",
    "      \"department\": \"data_science\"\n",
    "  }\n",
    ")\n",
    "\n",
    "folder_obj"
   ]
  },
  {
   "cell_type": "code",
   "execution_count": 5,
   "id": "1d03e88d-f162-4f11-b5d3-bdbad538567f",
   "metadata": {},
   "outputs": [
    {
     "data": {
      "text/plain": [
       "syft_objects.clean_api.CleanSyftObject"
      ]
     },
     "execution_count": 5,
     "metadata": {},
     "output_type": "execute_result"
    }
   ],
   "source": [
    "type(folder_obj)"
   ]
  },
  {
   "cell_type": "code",
   "execution_count": 6,
   "id": "1415cdb6-ba31-4ed5-b84c-01cc03cf89d6",
   "metadata": {},
   "outputs": [
    {
     "data": {
      "text/plain": [
       "SyftObject(uid='a6ec464a-0e52-42a7-8a46-f92c777ed6a3', name='Test ML Project 34', description='Folder object: Test ML Project 34', object_type='folder', created_at=datetime.datetime(2025, 7, 11, 5, 4, 15, 22988), updated_at=datetime.datetime(2025, 7, 11, 5, 4, 15, 23008), mock='syft://liamtrask@gmail.com/public/objects/test_ml_project_34_a6ec464a/', private='syft://liamtrask@gmail.com/private/objects/test_ml_project_34_a6ec464a/', syftobject='syft://liamtrask@gmail.com/public/objects/test_ml_project_34_a6ec464a.syftobject.yaml', metadata={'_folder_paths': {'private': 'tmp/test_ml_project_34_a6ec464a_private'}, '_original_permissions': {'discovery_read': ['andrew@openmined.org'], 'mock_read': ['intern@company.com'], 'mock_write': [], 'private_read': ['cto@company.com'], 'private_write': ['cto@company.com', 'admin@company.com']}, 'department': 'data_science', 'project_type': 'machine_learning', 'sensitivity': 'high', '_file_operations': {'syftobject_yaml_path': 'syft://liamtrask@gmail.com/public/objects/test_ml_project_34_a6ec464a.syftobject.yaml', 'files_moved_to_syftbox': ['tmp/test_ml_project_34_a6ec464a.syftobject.yaml → syft://liamtrask@gmail.com/public/objects/test_ml_project_34_a6ec464a.syftobject.yaml']}})"
      ]
     },
     "execution_count": 6,
     "metadata": {},
     "output_type": "execute_result"
    }
   ],
   "source": [
    "folder_obj._CleanSyftObject__obj"
   ]
  },
  {
   "cell_type": "code",
   "execution_count": null,
   "id": "76c92ace-75ca-45f4-b1d9-5207e47f7bf4",
   "metadata": {},
   "outputs": [],
   "source": [
    "folder_obj."
   ]
  }
 ],
 "metadata": {
  "kernelspec": {
   "display_name": "Python 3 (ipykernel)",
   "language": "python",
   "name": "python3"
  },
  "language_info": {
   "codemirror_mode": {
    "name": "ipython",
    "version": 3
   },
   "file_extension": ".py",
   "mimetype": "text/x-python",
   "name": "python",
   "nbconvert_exporter": "python",
   "pygments_lexer": "ipython3",
   "version": "3.12.7"
  }
 },
 "nbformat": 4,
 "nbformat_minor": 5
}
