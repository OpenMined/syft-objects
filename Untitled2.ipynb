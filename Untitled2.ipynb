{
 "cells": [
  {
   "cell_type": "code",
   "execution_count": 2,
   "id": "78bf7096-4ca2-449b-94a9-773be654bf98",
   "metadata": {},
   "outputs": [
    {
     "name": "stdout",
     "output_type": "stream",
     "text": [
      "\u001b[2K\u001b[2mResolved \u001b[1m52 packages\u001b[0m \u001b[2min 412ms\u001b[0m\u001b[0m                                        \u001b[0m\n",
      "\u001b[2K\u001b[2mPrepared \u001b[1m7 packages\u001b[0m \u001b[2min 62ms\u001b[0m\u001b[0m                                              \n",
      "\u001b[2mUninstalled \u001b[1m3 packages\u001b[0m \u001b[2min 15ms\u001b[0m\u001b[0m\n",
      "\u001b[2K\u001b[2mInstalled \u001b[1m7 packages\u001b[0m \u001b[2min 9ms\u001b[0m\u001b[0m                                 \u001b[0m\n",
      " \u001b[31m-\u001b[39m \u001b[1mcertifi\u001b[0m\u001b[2m==2025.6.15\u001b[0m\n",
      " \u001b[32m+\u001b[39m \u001b[1mcertifi\u001b[0m\u001b[2m==2025.7.9\u001b[0m\n",
      " \u001b[32m+\u001b[39m \u001b[1mpython-dotenv\u001b[0m\u001b[2m==1.1.1\u001b[0m\n",
      " \u001b[31m-\u001b[39m \u001b[1msyft-core\u001b[0m\u001b[2m==0.2.5\u001b[0m\n",
      " \u001b[32m+\u001b[39m \u001b[1msyft-core\u001b[0m\u001b[2m==0.2.7\u001b[0m\n",
      " \u001b[31m-\u001b[39m \u001b[1msyft-objects\u001b[0m\u001b[2m==0.8.0 (from file:///Users/atrask/Documents/GitHub/syft-objects)\u001b[0m\n",
      " \u001b[32m+\u001b[39m \u001b[1msyft-objects\u001b[0m\u001b[2m==0.10.18\u001b[0m\n",
      " \u001b[32m+\u001b[39m \u001b[1msyft-queue\u001b[0m\u001b[2m==0.4.81\u001b[0m\n",
      " \u001b[32m+\u001b[39m \u001b[1mwatchfiles\u001b[0m\u001b[2m==1.1.0\u001b[0m\n",
      " \u001b[32m+\u001b[39m \u001b[1mwebsockets\u001b[0m\u001b[2m==15.0.1\u001b[0m\n"
     ]
    }
   ],
   "source": [
    "!uv pip install syft-queue -U"
   ]
  },
  {
   "cell_type": "code",
   "execution_count": null,
   "id": "6e146dad-0af5-43b7-83f1-61cd4f80d150",
   "metadata": {},
   "outputs": [],
   "source": []
  }
 ],
 "metadata": {
  "kernelspec": {
   "display_name": "Python 3 (ipykernel)",
   "language": "python",
   "name": "python3"
  },
  "language_info": {
   "codemirror_mode": {
    "name": "ipython",
    "version": 3
   },
   "file_extension": ".py",
   "mimetype": "text/x-python",
   "name": "python",
   "nbconvert_exporter": "python",
   "pygments_lexer": "ipython3",
   "version": "3.12.7"
  }
 },
 "nbformat": 4,
 "nbformat_minor": 5
}
