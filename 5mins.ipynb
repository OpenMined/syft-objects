{
 "cells": [
  {
   "cell_type": "markdown",
   "id": "81a5a0e8-e499-4fb6-a5a7-036bd5a5873f",
   "metadata": {},
   "source": [
    "# Syft-Objects in 5 Minutes\n",
    "\n",
    "Syft-objects are best understood in the context of the problem it solves **for OpenMined community members prototyping apps** (and maybe someday for SyftBox dev-users and data scientists)\n",
    "\n",
    "**Problem:** Unless its a dataset, syftbox users cannot discover or address syftbox files they don't have READ access to. \n",
    "\n",
    "**Cost:** Consequently, we waste enormous time building complex RPC/RDS apps to keep track of (and manipulate) private intermediate/final variables in use-case specific settings. \n",
    "\n",
    "**Solution:** Syft-objects exists to enable users to discover and address (i.e. get a url for) non-dataset objects, reducing the burden on RPC/RDS to mold around following the state of hidden variables.\n",
    "\n",
    "**Benefit:** I believe this could greatly reduce the complexity of use-case specific builds, and I believe is part of a broader set of tools capable of enabling OpenMined community members to build prototypes in 1 day instead of multiple months. Due to its possible benefits, I believe that syft-objects could have a material impact on the likelihood that the OpenMined community is successful in its mission."
   ]
  },
  {
   "cell_type": "markdown",
   "id": "8656c76f-82dd-4f84-af2a-f62fb1f8fe5d",
   "metadata": {},
   "source": [
    "# Part 1: What is syft-objects\n",
    "\n",
    "(multiple answers in increasing order of complexity)\n",
    "\n",
    "- it's syft-datasets for all files in SyftBox\n",
    "- it's a python library for writing .config files which point to mock and real assets\n",
    "- it's a means of enabling files you can't READ to have an address and schema you can write code against\n",
    "- it's a way to discover and address non-dataset objects across the syftbox network you don't have READ access to — such as intermediate or final variables in an RDS/NSAI information flow (or any other federated software application)\n",
    "\n",
    "Syft-objects centers around a permissioned list of objects that a user is able to see."
   ]
  },
  {
   "cell_type": "code",
   "execution_count": 1,
   "id": "23f58b72-4f65-43a1-886f-4e52c3974f20",
   "metadata": {},
   "outputs": [
    {
     "data": {
      "text/html": [
       "\n",
       "        <iframe \n",
       "            src=\"http://localhost:51774/widget\" \n",
       "            width=\"100%\" \n",
       "            height=\"400px\"\n",
       "            frameborder=\"0\"\n",
       "            style=\"border: none;\"\n",
       "            title=\"SyftObjects Widget\">\n",
       "        </iframe>\n",
       "        "
      ],
      "text/plain": [
       "+---------+-----------------------+-----------------------+------------------------------------------------------------------------+-----------------------------------------------------------------------+\n",
       "|   Index | Email                 | Object Name           | Private URL                                                            | Mock URL                                                              |\n",
       "+=========+=======================+=======================+========================================================================+=======================================================================+\n",
       "|       0 | liamtrask@gmail.com   | Syft Object           | syft://liamtrask@gmail.com/private/objects/Syft Object_private.txt     | syft://liamtrask@gmail.com/public/objects/Syft Object_private.txt     |\n",
       "+---------+-----------------------+-----------------------+------------------------------------------------------------------------+-----------------------------------------------------------------------+\n",
       "|       1 | jajif89762@ofacer.com | NetflixViewingHistory | syft://jajif89762@ofacer.com/private/objects/NetflixViewingHistory.csv | syft://jajif89762@ofacer.com/public/objects/NetflixViewingHistory.csv |\n",
       "+---------+-----------------------+-----------------------+------------------------------------------------------------------------+-----------------------------------------------------------------------+"
      ]
     },
     "execution_count": 1,
     "metadata": {},
     "output_type": "execute_result"
    }
   ],
   "source": [
    "import syft_objects as so \n",
    "so.objects"
   ]
  },
  {
   "cell_type": "markdown",
   "id": "f4f70939-1978-4b75-a540-8030452ac8d1",
   "metadata": {},
   "source": [
    "The clever part about this view is that **it is permissioned**. This means that **what you see != what others see**. \n",
    "- **Discoverability:** If your email is included in discover_read, then objects will show up *for you*.\n",
    "- **Mock Visibility:** If you have mock_read permissions, then the \"mock\" button will be clickable and you can look at the mock file.\n",
    "- **Private Visibility:** If you have private_read permissions, then the \"Private\" button will be clickable and you can look at the private data (e.g. if the syft-object refers to your data).\n",
    "\n",
    "It's this decoupling of read/write permissions from discoverability that makes syft-objects special. It accomplishes this by creating syftobject.yaml files which look like this:\n",
    "\n",
    "```\n",
    "\n",
    "created_at: '2025-07-09T03:51:19.701371+00:00'\n",
    "description: Object 'Sales Data' with explicit mock and private files\n",
    "metadata:\n",
    "  _file_operations:\n",
    "    created_files: []\n",
    "    files_moved_to_syftbox:\n",
    "    - \"test_real.csv \\u2192 syft://liamtrask@gmail.com/private/objects/test_real.csv\"\n",
    "    - \"test_mock.csv \\u2192 syft://liamtrask@gmail.com/public/objects/test_real.csv\"\n",
    "    syftbox_available: true\n",
    "    syftobject_yaml_path: null\n",
    "mock_permissions:\n",
    "- public\n",
    "mock_url: syft://liamtrask@gmail.com/public/objects/test_real.csv\n",
    "mock_write_permissions: []\n",
    "name: Sales Data\n",
    "object_type: file\n",
    "private_permissions:\n",
    "- liamtrask@gmail.com\n",
    "private_url: syft://liamtrask@gmail.com/private/objects/test_real.csv\n",
    "private_write_permissions:\n",
    "- liamtrask@gmail.com\n",
    "syftobject: syft://liamtrask@gmail.com/public/objects/sales_data_d3f96747.syftobject.yaml\n",
    "syftobject_permissions:\n",
    "- public\n",
    "uid: d3f96747-3b27-4e80-b4f4-f3ba2c2ee468\n",
    "updated_at: '2025-07-09T03:51:19.701375+00:00'\n",
    "\n",
    "```\n",
    "\n",
    "In another way, **syft-objects is just a fancy python library for CRUD of these config files** (and the mock/private files this yaml file points to)."
   ]
  },
  {
   "cell_type": "markdown",
   "id": "65f8de2b-9f60-4c63-b045-e42f84cb93c3",
   "metadata": {},
   "source": [
    "## Part 2: How do I use syft-objects?\n",
    "\n",
    "To use syft-objects, you follow four steps:\n",
    "\n",
    "1. Import the library\n",
    "2. Find a syft-object\n",
    "3. Use the syft-object to create new syft-objects\n",
    "4. Repeat until you have created your final outputs (and request READ access for them)"
   ]
  },
  {
   "cell_type": "markdown",
   "id": "8c8144ee-c3ab-4eb5-9465-8d166454af7a",
   "metadata": {},
   "source": [
    "### Step 1: Import the library as \"so\""
   ]
  },
  {
   "cell_type": "code",
   "execution_count": 1,
   "id": "4381888b-140a-4bab-9b20-0be49c69e942",
   "metadata": {},
   "outputs": [],
   "source": [
    "# !uv pip install syft-objects"
   ]
  },
  {
   "cell_type": "code",
   "execution_count": 3,
   "id": "3a9fbc3f-6b1c-40f8-ad91-af3cd6174cba",
   "metadata": {},
   "outputs": [],
   "source": [
    "import syft_objects as so"
   ]
  },
  {
   "cell_type": "code",
   "execution_count": 4,
   "id": "f4650d78-f028-4c4a-8c0b-8fc5344891aa",
   "metadata": {},
   "outputs": [
    {
     "data": {
      "text/plain": [
       "'0.9.28'"
      ]
     },
     "execution_count": 4,
     "metadata": {},
     "output_type": "execute_result"
    }
   ],
   "source": [
    "so.__version__"
   ]
  },
  {
   "cell_type": "markdown",
   "id": "71d4ab24-e8ef-448a-b4d5-dbb0c6cc480f",
   "metadata": {},
   "source": [
    "### Step 2: Find an object\n",
    "\n",
    "To find an object, use so.objects:\n",
    "  1. Searchbar / Filter by Admin: type key terms related to your search.\n",
    "  2. Browse: scroll through the search results and look for things that interest you.\n",
    "  3. Inspect: When you see interesting datasets, click \"Mock\" and \"Info\" to see if the dataset has everything you want.\n",
    "  4. Select: When things interest you, click the \"checkbox\" next to each row\n",
    "  5. Copy: Click the \"Python\" button at the top, which copies python code to your clipboard\n",
    "  6. Paste: Paste the python code into the next cell. You now have syft-object variables you can do things with."
   ]
  },
  {
   "cell_type": "code",
   "execution_count": 2,
   "id": "d5af4371-a2fe-4d46-a4d1-aee9b0c00fed",
   "metadata": {},
   "outputs": [
    {
     "data": {
      "text/html": [
       "\n",
       "        <iframe \n",
       "            src=\"http://localhost:51774/widget\" \n",
       "            width=\"100%\" \n",
       "            height=\"400px\"\n",
       "            frameborder=\"0\"\n",
       "            style=\"border: none;\"\n",
       "            title=\"SyftObjects Widget\">\n",
       "        </iframe>\n",
       "        "
      ],
      "text/plain": [
       "+---------+-----------------------+-----------------------+------------------------------------------------------------------------+-----------------------------------------------------------------------+\n",
       "|   Index | Email                 | Object Name           | Private URL                                                            | Mock URL                                                              |\n",
       "+=========+=======================+=======================+========================================================================+=======================================================================+\n",
       "|       0 | liamtrask@gmail.com   | Syft Object           | syft://liamtrask@gmail.com/private/objects/Syft Object_private.txt     | syft://liamtrask@gmail.com/public/objects/Syft Object_private.txt     |\n",
       "+---------+-----------------------+-----------------------+------------------------------------------------------------------------+-----------------------------------------------------------------------+\n",
       "|       1 | jajif89762@ofacer.com | NetflixViewingHistory | syft://jajif89762@ofacer.com/private/objects/NetflixViewingHistory.csv | syft://jajif89762@ofacer.com/public/objects/NetflixViewingHistory.csv |\n",
       "+---------+-----------------------+-----------------------+------------------------------------------------------------------------+-----------------------------------------------------------------------+"
      ]
     },
     "execution_count": 2,
     "metadata": {},
     "output_type": "execute_result"
    }
   ],
   "source": [
    "# Try the following:\n",
    "\n",
    "# SEARCHBAR / BROWSE / INSPECT / SELECT\n",
    "# 1. enter \"Netflix\" in the search bar \n",
    "# 2. click the \"Mock\" and \"Info\" tabs in interesting rows\n",
    "# 3. click the checkboxes for several entries\n",
    "# 4. click the \"Python\" button\n",
    "# 5: paste code in the cell below\n",
    "\n",
    "so.objects"
   ]
  },
  {
   "cell_type": "code",
   "execution_count": 7,
   "id": "0286d40b-d51d-40d1-8cf1-c912577e5131",
   "metadata": {},
   "outputs": [],
   "source": [
    "# This is an example of copy-pasted code\n",
    "results_17 = [so.objects[\"0b2f982d-6f82-48f3-b32e-3005e186e1cc\"]]"
   ]
  },
  {
   "cell_type": "markdown",
   "id": "59aacb71-f4f2-44d4-8af0-f2cc19f22580",
   "metadata": {},
   "source": [
    "### Step 3: Use the syft-object to create more syft-objects\n",
    "\n",
    "The syft-object API serves two purposes: discoverability and use.\n",
    "\n",
    "- **Discoverability:** 90% of the syft-object API and interface is about providing metadata for discoverability\n",
    "  1. name\n",
    "  2. description\n",
    "  3. admin\n",
    "  4. permissions:\n",
    "     - discovery_read\n",
    "     - mock_read\n",
    "     - mock_write\n",
    "     - private_read\n",
    "     - private_write\n",
    "  6. uid\n",
    "  7. created\n",
    "  8. type\n",
    "  9. metadata\n",
    "      \n",
    "- **Use:** 10% of the API provides the key assets which aid with use:\n",
    "\n",
    "  1. *Mock:* A pretend version of the object you can use to write code against, so you know your code will compile and run against the real asset on someone else's computer.\n",
    "  2. *Private Filepath:* The path of the object on someone else's computer\n",
    "  3. *so.create_object()* A method used to create new syft-objects while in a computation.\n",
    "\n",
    "Step 3 leverages these three API endpoints to use a syft-object to create more syft-objects"
   ]
  },
  {
   "cell_type": "code",
   "execution_count": 116,
   "id": "de59e6f2-34c3-41ee-a846-bf970839402b",
   "metadata": {},
   "outputs": [
    {
     "data": {
      "text/plain": [
       "pandas.core.frame.DataFrame"
      ]
     },
     "execution_count": 116,
     "metadata": {},
     "output_type": "execute_result"
    }
   ],
   "source": [
    "# Select the mock and understand its concents\n",
    "mock_obj = results_17[0].mock\n",
    "type(mock_obj.obj)"
   ]
  },
  {
   "cell_type": "code",
   "execution_count": 121,
   "id": "300de06d-5302-4dc8-b909-9db16872cdc7",
   "metadata": {},
   "outputs": [
    {
     "data": {
      "text/html": [
       "<div>\n",
       "<style scoped>\n",
       "    .dataframe tbody tr th:only-of-type {\n",
       "        vertical-align: middle;\n",
       "    }\n",
       "\n",
       "    .dataframe tbody tr th {\n",
       "        vertical-align: top;\n",
       "    }\n",
       "\n",
       "    .dataframe thead th {\n",
       "        text-align: right;\n",
       "    }\n",
       "</style>\n",
       "<table border=\"1\" class=\"dataframe\">\n",
       "  <thead>\n",
       "    <tr style=\"text-align: right;\">\n",
       "      <th></th>\n",
       "      <th>Title</th>\n",
       "      <th>Date</th>\n",
       "    </tr>\n",
       "  </thead>\n",
       "  <tbody>\n",
       "    <tr>\n",
       "      <th>0</th>\n",
       "      <td>Est ut est sed est magnam.</td>\n",
       "      <td>2022-12-09</td>\n",
       "    </tr>\n",
       "    <tr>\n",
       "      <th>1</th>\n",
       "      <td>Sed adipisci eius aliquam est consectetur.</td>\n",
       "      <td>2021-02-03</td>\n",
       "    </tr>\n",
       "    <tr>\n",
       "      <th>2</th>\n",
       "      <td>Etincidunt adipisci consectetur ipsum adipisci...</td>\n",
       "      <td>2020-01-31</td>\n",
       "    </tr>\n",
       "    <tr>\n",
       "      <th>3</th>\n",
       "      <td>Neque quisquam non consectetur quiquia porro ut.</td>\n",
       "      <td>2023-01-18</td>\n",
       "    </tr>\n",
       "    <tr>\n",
       "      <th>4</th>\n",
       "      <td>Consectetur ut sit velit sit.</td>\n",
       "      <td>2023-12-27</td>\n",
       "    </tr>\n",
       "    <tr>\n",
       "      <th>...</th>\n",
       "      <td>...</td>\n",
       "      <td>...</td>\n",
       "    </tr>\n",
       "    <tr>\n",
       "      <th>132</th>\n",
       "      <td>Numquam porro ipsum consectetur.</td>\n",
       "      <td>2022-06-11</td>\n",
       "    </tr>\n",
       "    <tr>\n",
       "      <th>133</th>\n",
       "      <td>Eius aliquam consectetur porro velit aliquam n...</td>\n",
       "      <td>2021-01-22</td>\n",
       "    </tr>\n",
       "    <tr>\n",
       "      <th>134</th>\n",
       "      <td>Labore est neque quisquam magnam quisquam labore.</td>\n",
       "      <td>2022-04-07</td>\n",
       "    </tr>\n",
       "    <tr>\n",
       "      <th>135</th>\n",
       "      <td>Velit aliquam consectetur quiquia amet adipisci.</td>\n",
       "      <td>2023-11-21</td>\n",
       "    </tr>\n",
       "    <tr>\n",
       "      <th>136</th>\n",
       "      <td>Numquam dolore quisquam velit consectetur.</td>\n",
       "      <td>2021-02-13</td>\n",
       "    </tr>\n",
       "  </tbody>\n",
       "</table>\n",
       "<p>137 rows × 2 columns</p>\n",
       "</div>"
      ],
      "text/plain": [
       "                                                 Title        Date\n",
       "0                           Est ut est sed est magnam.  2022-12-09\n",
       "1           Sed adipisci eius aliquam est consectetur.  2021-02-03\n",
       "2    Etincidunt adipisci consectetur ipsum adipisci...  2020-01-31\n",
       "3     Neque quisquam non consectetur quiquia porro ut.  2023-01-18\n",
       "4                        Consectetur ut sit velit sit.  2023-12-27\n",
       "..                                                 ...         ...\n",
       "132                   Numquam porro ipsum consectetur.  2022-06-11\n",
       "133  Eius aliquam consectetur porro velit aliquam n...  2021-01-22\n",
       "134  Labore est neque quisquam magnam quisquam labore.  2022-04-07\n",
       "135   Velit aliquam consectetur quiquia amet adipisci.  2023-11-21\n",
       "136         Numquam dolore quisquam velit consectetur.  2021-02-13\n",
       "\n",
       "[137 rows x 2 columns]"
      ]
     },
     "execution_count": 121,
     "metadata": {},
     "output_type": "execute_result"
    }
   ],
   "source": [
    "mock_obj.obj"
   ]
  },
  {
   "cell_type": "code",
   "execution_count": 23,
   "id": "b2b69e88-0e0c-4fe5-b1b2-cf1b653bc138",
   "metadata": {},
   "outputs": [
    {
     "data": {
      "text/plain": [
       "137"
      ]
     },
     "execution_count": 23,
     "metadata": {},
     "output_type": "execute_result"
    }
   ],
   "source": [
    "# test some code against the mock\n",
    "my_result = len(mock_obj.obj)\n",
    "my_result"
   ]
  },
  {
   "cell_type": "code",
   "execution_count": 19,
   "id": "9450ead1-13d6-41e7-90f9-a475c64c0b72",
   "metadata": {},
   "outputs": [
    {
     "data": {
      "text/plain": [
       "'/Users/atrask/SyftBox/datasites/jajif89762@ofacer.com/public/objects/NetflixViewingHistory.csv'"
      ]
     },
     "execution_count": 19,
     "metadata": {},
     "output_type": "execute_result"
    }
   ],
   "source": [
    "# find find the address to the real object (on someone else's computer)\n",
    "mock_obj.path"
   ]
  },
  {
   "cell_type": "code",
   "execution_count": 60,
   "id": "f638af4b-2b7c-4ac0-9eba-68d7abf19165",
   "metadata": {},
   "outputs": [
    {
     "data": {
      "text/plain": [
       "'liamtrask@gmail.com'"
      ]
     },
     "execution_count": 60,
     "metadata": {},
     "output_type": "execute_result"
    }
   ],
   "source": [
    "# get my datasite's email (for permissions of mock outputs)\n",
    "from syft_core import Client\n",
    "Client.load().email"
   ]
  },
  {
   "cell_type": "code",
   "execution_count": 63,
   "id": "f0f3f322-6e25-4177-b129-9593ab7b6542",
   "metadata": {},
   "outputs": [],
   "source": [
    "# create a function which could execute on someone else's computer\n",
    "def my_data_science_query():\n",
    "\n",
    "    ## ===== BEGIN SYFT-SPECIFIC INPUT LOADING ===== \n",
    "    \n",
    "    import syft_object as so\n",
    "    import pandas as pd\n",
    "\n",
    "    # get the private object (assuming this method is running on someone else's computer)\n",
    "    path = '/Users/atrask/SyftBox/datasites/jajif89762@ofacer.com/public/objects/NetflixViewingHistory.csv'\n",
    "    private_obj = pd.DataFrame(path)\n",
    "\n",
    "    ## ===== END SYFT-SPECIFIC INPUT LOADING ===== \n",
    "    \n",
    "    # compute result\n",
    "    my_result = len(private_obj)\n",
    "\n",
    "    ## ===== BEGIN SYFT-SPECIFIC OUTPUT SAVING ===== \n",
    "    \n",
    "    # save the real result\n",
    "    f = open('intermediate_result.txt', 'w')\n",
    "    f.write(str(my_result))\n",
    "    f.close()\n",
    "\n",
    "    # save a mock result (random but representative)\n",
    "    f = open('mock_intermediate_result.txt', 'w')\n",
    "    f.write(str(100))\n",
    "    f.close()\n",
    "    \n",
    "    # write results to new syft-object\n",
    "    so.create_object(name=my_result, \n",
    "                     private_file='intermediate_result.txt', # this is the file we're creating a syft-object around, I won't be able to read it \n",
    "                     mock_file='mock_intermediate_result.txt', # this is the file I'll be able to actually read later\n",
    "                     discovery_read=['liamtrask@gmail.com'], # only I can see this syft object (as opposed to \"public\")\n",
    "                     mock_read=['liamtrask@gmail.com']) # only I can see this mock (as opposed to \"public\")\n",
    "\n",
    "    ## ===== END SYFT-SPECIFIC OUTPUT SAVING ===== "
   ]
  },
  {
   "cell_type": "markdown",
   "id": "6f3f9b8a-b1fb-43dc-88de-351a7c2d4d00",
   "metadata": {},
   "source": [
    "### MISSING STEP HERE ###\n",
    "\n",
    "At this point we'd submit our \"my_data_science_query()\" to be run on someone else's machine. However, that's not the job of syft-objects. It's the job of programs like [syft-data-science](https://github.com/OpenMined/syft-data-science) and [syft-queue](https://github.com/OpenMined/syft-queue). Please see their tutorials for more on this."
   ]
  },
  {
   "cell_type": "markdown",
   "id": "9be8545f-0580-4891-afbf-aa3986eaa1b7",
   "metadata": {},
   "source": [
    "### Step 4: Repeat until you have created your final outputs\n",
    "\n",
    "And with the above process, a data user can run a program which creates intermediate results, and then run followup programs which use those intermediate results. Crucially, intermediate results can be any file type, such as:\n",
    "- CSV\n",
    "- SQL Lite databases\n",
    "- Python Code! (my_code.py)\n",
    "- Huggingface Models\n",
    "- ...\n",
    "\n",
    "Everything file-based is supported by default (note the underlying structures are also language agnostic — although this tutorial happens to be in Python and use a Python library/SDK)"
   ]
  },
  {
   "cell_type": "markdown",
   "id": "104990aa-fd62-4961-a887-9a771e260deb",
   "metadata": {},
   "source": [
    "# Part 3: What are basic CRUD operations for Syft-Objects?\n",
    "\n",
    "Syft-objects support basic CRUD on all their metadata through:\n",
    "- **UIs:** there are 3 UI options to choose from (so.objects, SyftBox UI -> apps -> syft-objects, or you can click the \"Open in Window\" button in the so.objects which will open a localhost website). And through this UI you can:\n",
    "    - **Create:** by drag-and-drop into the UI OR by clicking the \"New\" button and filing out the form\n",
    "    - **Read:** by searching/browsing the UI and clicking through its many buttons\n",
    "    - **Update:** You can update an object's Mock or Private file (if you have WRITE access) by clicking the \"Mock\" or \"Private\" buttons on its row in the UI.\n",
    "    - **Delete:** You can delete a syft-object by clicking the small, red garbage can icon on the right side of that object's row, or by clicking the checkbox on the left side and pushign the \"Delete Selected\" button.\n",
    "      \n",
    "- **Python API:** CRUD operations exist (most comprehensively) on the python API.\n",
    "    - **Create:** so.create_object()\n",
    "    - **Read:** You can either return the object in Jupyter notebook (which will render an _html_repr_) or you can use getter methods present on each syft-object: (get_created_at, get_description, get_file_type, get_info, get_metadata, get_name, get_path, get_permissions, get_uid, get_updated_at, get_urls)\n",
    "    - **Update:** For every getter there is also a setter.\n",
    "    - **Delete:** Each syft-object has a .delete_obj() method."
   ]
  },
  {
   "cell_type": "markdown",
   "id": "da6136f8-a3d3-4d6b-bc74-5af0576c140f",
   "metadata": {},
   "source": [
    "### Step 1: UI Based CRUD"
   ]
  },
  {
   "cell_type": "markdown",
   "id": "b9cda019-106f-4d44-809b-b59a484b401a",
   "metadata": {},
   "source": [
    "In the UI below, try the CRUD operations."
   ]
  },
  {
   "cell_type": "code",
   "execution_count": 3,
   "id": "95a1be4b-d732-43ab-ae54-674321d089df",
   "metadata": {},
   "outputs": [
    {
     "data": {
      "text/html": [
       "\n",
       "        <iframe \n",
       "            src=\"http://localhost:51774/widget\" \n",
       "            width=\"100%\" \n",
       "            height=\"400px\"\n",
       "            frameborder=\"0\"\n",
       "            style=\"border: none;\"\n",
       "            title=\"SyftObjects Widget\">\n",
       "        </iframe>\n",
       "        "
      ],
      "text/plain": [
       "+---------+-----------------------+-----------------------+------------------------------------------------------------------------+-----------------------------------------------------------------------+\n",
       "|   Index | Email                 | Object Name           | Private URL                                                            | Mock URL                                                              |\n",
       "+=========+=======================+=======================+========================================================================+=======================================================================+\n",
       "|       0 | liamtrask@gmail.com   | Syft Object           | syft://liamtrask@gmail.com/private/objects/Syft Object_private.txt     | syft://liamtrask@gmail.com/public/objects/Syft Object_private.txt     |\n",
       "+---------+-----------------------+-----------------------+------------------------------------------------------------------------+-----------------------------------------------------------------------+\n",
       "|       1 | jajif89762@ofacer.com | NetflixViewingHistory | syft://jajif89762@ofacer.com/private/objects/NetflixViewingHistory.csv | syft://jajif89762@ofacer.com/public/objects/NetflixViewingHistory.csv |\n",
       "+---------+-----------------------+-----------------------+------------------------------------------------------------------------+-----------------------------------------------------------------------+"
      ]
     },
     "execution_count": 3,
     "metadata": {},
     "output_type": "execute_result"
    }
   ],
   "source": [
    "so.objects"
   ]
  },
  {
   "cell_type": "markdown",
   "id": "d65955c6-b458-43fd-8455-730680336212",
   "metadata": {},
   "source": [
    "### Step 2: CREATE with Python API\n"
   ]
  },
  {
   "cell_type": "code",
   "execution_count": 70,
   "id": "7802836c-2e3f-484a-8ff2-f2457a28a492",
   "metadata": {},
   "outputs": [
    {
     "data": {
      "text/plain": [
       "\u001b[31mSignature:\u001b[39m so.create_object(name=\u001b[38;5;28;01mNone\u001b[39;00m, **kwargs)\n",
       "\u001b[31mDocstring:\u001b[39m\n",
       "Create a new SyftObject with explicit naming.\n",
       "\n",
       "This is an alias for syobj() with a clearer name.\n",
       "\n",
       "Args:\n",
       "    name: Optional name for the object\n",
       "    **kwargs: All the same arguments as syobj:\n",
       "        - private_contents: String content for private file\n",
       "        - mock_contents: String content for mock file\n",
       "        - private_file: Path to private file\n",
       "        - mock_file: Path to mock file\n",
       "        - private_folder: Path to private folder\n",
       "        - mock_folder: Path to mock folder\n",
       "        - discovery_read: List of who can discover\n",
       "        - mock_read: List of who can read mock\n",
       "        - mock_write: List of who can write mock\n",
       "        - private_read: List of who can read private\n",
       "        - private_write: List of who can write private\n",
       "        - metadata: Additional metadata dict\n",
       "\n",
       "Returns:\n",
       "    SyftObject: The newly created object\n",
       "\u001b[31mFile:\u001b[39m      ~/Documents/GitHub/syft-objects/src/syft_objects/__init__.py\n",
       "\u001b[31mType:\u001b[39m      function"
      ]
     },
     "metadata": {},
     "output_type": "display_data"
    }
   ],
   "source": [
    "so.create_object?"
   ]
  },
  {
   "cell_type": "code",
   "execution_count": 71,
   "id": "094caf3a-9653-4858-8211-e944bef3c6e2",
   "metadata": {},
   "outputs": [],
   "source": [
    "# for testing purposes, you can run it without arguments\n",
    "# and it will create an object using default settings\n",
    "# Observe the object showing up in the so.objects panela bove.\n",
    "new_obj = so.create_object()"
   ]
  },
  {
   "cell_type": "markdown",
   "id": "859732e8-92e9-4d58-8897-eb662a304e59",
   "metadata": {},
   "source": [
    "### Step 3: READ with Python API"
   ]
  },
  {
   "cell_type": "markdown",
   "id": "c1859214-b25a-4bc7-97de-918f4036a9f5",
   "metadata": {},
   "source": [
    "First let's start with the 4 attributes:\n",
    "- new_obj <- in a jupyter notebook, this displays a nice read/write widget for the object as a whole\n",
    "- new_obj.mock <- displays a \"mock accessor\" class by default which holds metadata and has a nice pretty print\n",
    "- new_obj.private <- displays a \"private accessor\" class by default which holds metadata and has a nice pretty print\n",
    "- new_obj.syftobject_config <- displays a \"SyftObjectConfigAccessor\" class by default which holds metadata and a nice pretty print"
   ]
  },
  {
   "cell_type": "code",
   "execution_count": 113,
   "id": "4e3abb28-6968-4ddf-8341-a8c138ec08d6",
   "metadata": {},
   "outputs": [
    {
     "data": {
      "text/html": [
       "\n",
       "    <style>\n",
       "    .syft-object {\n",
       "        font-family: -apple-system, BlinkMacSystemFont, 'Segoe UI', Roboto, sans-serif;\n",
       "        border: 2px solid #e0e7ff;\n",
       "        border-radius: 12px;\n",
       "        padding: 20px;\n",
       "        margin: 10px 0;\n",
       "        background: linear-gradient(135deg, #f8fafc 0%, #f1f5f9 100%);\n",
       "        box-shadow: 0 4px 12px rgba(0,0,0,0.05);\n",
       "    }\n",
       "    .syft-header {\n",
       "        display: flex;\n",
       "        align-items: center;\n",
       "        margin-bottom: 20px;\n",
       "        padding-bottom: 15px;\n",
       "        border-bottom: 2px solid #e2e8f0;\n",
       "    }\n",
       "    .syft-title {\n",
       "        font-size: 24px;\n",
       "        font-weight: 700;\n",
       "        color: #1e293b;\n",
       "        margin: 0;\n",
       "        flex-grow: 1;\n",
       "    }\n",
       "    .syft-uid {\n",
       "        font-family: 'Monaco', 'Menlo', monospace;\n",
       "        font-size: 12px;\n",
       "        color: #64748b;\n",
       "        background: #f1f5f9;\n",
       "        padding: 4px 8px;\n",
       "        border-radius: 6px;\n",
       "    }\n",
       "    .syft-section {\n",
       "        margin-bottom: 20px;\n",
       "    }\n",
       "    .syft-section-title {\n",
       "        font-size: 16px;\n",
       "        font-weight: 600;\n",
       "        color: #374151;\n",
       "        margin-bottom: 12px;\n",
       "        display: flex;\n",
       "        align-items: center;\n",
       "    }\n",
       "    .syft-section-title::before {\n",
       "        content: '';\n",
       "        width: 4px;\n",
       "        height: 20px;\n",
       "        background: #3b82f6;\n",
       "        margin-right: 10px;\n",
       "        border-radius: 2px;\n",
       "    }\n",
       "    .syft-grid {\n",
       "        display: grid;\n",
       "        grid-template-columns: 1fr 1fr;\n",
       "        gap: 20px;\n",
       "    }\n",
       "    .syft-files {\n",
       "        display: grid;\n",
       "        grid-template-columns: repeat(auto-fit, minmax(300px, 1fr));\n",
       "        gap: 15px;\n",
       "    }\n",
       "    .syft-file-card {\n",
       "        background: white;\n",
       "        border: 1px solid #e2e8f0;\n",
       "        border-radius: 8px;\n",
       "        padding: 15px;\n",
       "        box-shadow: 0 2px 4px rgba(0,0,0,0.02);\n",
       "    }\n",
       "    .syft-file-header {\n",
       "        display: flex;\n",
       "        justify-content: between;\n",
       "        align-items: center;\n",
       "        margin-bottom: 10px;\n",
       "    }\n",
       "    .syft-file-type {\n",
       "        font-weight: 600;\n",
       "        color: #374151;\n",
       "    }\n",
       "    .syft-file-url {\n",
       "        font-family: 'Monaco', 'Menlo', monospace;\n",
       "        font-size: 11px;\n",
       "        color: #6b7280;\n",
       "        word-break: break-all;\n",
       "        margin: 8px 0;\n",
       "        background: #f9fafb;\n",
       "        padding: 6px 8px;\n",
       "        border-radius: 4px;\n",
       "    }\n",
       "    .syft-permissions {\n",
       "        display: grid;\n",
       "        grid-template-columns: repeat(auto-fit, minmax(200px, 1fr));\n",
       "        gap: 10px;\n",
       "        margin-top: 10px;\n",
       "    }\n",
       "    .syft-perm-row {\n",
       "        display: flex;\n",
       "        justify-content: space-between;\n",
       "        align-items: center;\n",
       "        padding: 8px 12px;\n",
       "        background: white;\n",
       "        border-radius: 6px;\n",
       "        border: 1px solid #e5e7eb;\n",
       "    }\n",
       "    .syft-perm-label {\n",
       "        font-weight: 500;\n",
       "        font-size: 13px;\n",
       "        color: #374151;\n",
       "    }\n",
       "    .syft-badge {\n",
       "        padding: 4px 8px;\n",
       "        border-radius: 12px;\n",
       "        font-size: 11px;\n",
       "        font-weight: 500;\n",
       "        text-transform: uppercase;\n",
       "    }\n",
       "    .syft-badge-public {\n",
       "        background: #dcfce7;\n",
       "        color: #166534;\n",
       "    }\n",
       "    .syft-badge-user {\n",
       "        background: #dbeafe;\n",
       "        color: #1d4ed8;\n",
       "    }\n",
       "    .syft-badge-multiple {\n",
       "        background: #fef3c7;\n",
       "        color: #92400e;\n",
       "    }\n",
       "    .syft-badge-none {\n",
       "        background: #fee2e2;\n",
       "        color: #dc2626;\n",
       "    }\n",
       "    .syft-badge-available {\n",
       "        background: #dcfce7;\n",
       "        color: #166534;\n",
       "    }\n",
       "    .syft-badge-unavailable {\n",
       "        background: #fef3c7;\n",
       "        color: #92400e;\n",
       "    }\n",
       "    .syft-file-info {\n",
       "        font-family: 'Monaco', 'Menlo', monospace;\n",
       "        font-size: 11px;\n",
       "        color: #6b7280;\n",
       "        margin-top: 8px;\n",
       "        padding: 6px 8px;\n",
       "        background: #f9fafb;\n",
       "        border-radius: 4px;\n",
       "        word-break: break-all;\n",
       "    }\n",
       "    .syft-metadata-file {\n",
       "        border-left: 3px solid #8b5cf6;\n",
       "    }\n",
       "    .syft-metadata-file .syft-file-type {\n",
       "        color: #8b5cf6;\n",
       "    }\n",
       "    .syft-metadata {\n",
       "        background: white;\n",
       "        border: 1px solid #e5e7eb;\n",
       "        border-radius: 8px;\n",
       "        padding: 15px;\n",
       "    }\n",
       "    .syft-meta-row {\n",
       "        display: flex;\n",
       "        justify-content: space-between;\n",
       "        padding: 6px 0;\n",
       "        border-bottom: 1px solid #f3f4f6;\n",
       "    }\n",
       "    .syft-meta-row:last-child {\n",
       "        border-bottom: none;\n",
       "    }\n",
       "    .syft-meta-key {\n",
       "        font-weight: 500;\n",
       "        color: #374151;\n",
       "    }\n",
       "    .syft-meta-value {\n",
       "        color: #6b7280;\n",
       "        font-family: 'Monaco', 'Menlo', monospace;\n",
       "        font-size: 12px;\n",
       "    }\n",
       "    .syft-file-ops {\n",
       "        background: #f8fafc;\n",
       "        border: 1px solid #e2e8f0;\n",
       "        border-radius: 6px;\n",
       "        padding: 12px;\n",
       "        margin-top: 10px;\n",
       "    }\n",
       "    .syft-file-ops-title {\n",
       "        font-weight: 600;\n",
       "        color: #374151;\n",
       "        font-size: 13px;\n",
       "        margin-bottom: 8px;\n",
       "    }\n",
       "    .syft-file-ops-list {\n",
       "        font-size: 11px;\n",
       "        color: #6b7280;\n",
       "        font-family: 'Monaco', 'Menlo', monospace;\n",
       "    }\n",
       "    </style>\n",
       "    \n",
       "    <div class=\"syft-object\">\n",
       "        <div class=\"syft-header\">\n",
       "            <h3 class=\"syft-title\">🔐 My New Object</h3>\n",
       "            <span class=\"syft-uid\">de2dbad8...</span>\n",
       "        </div>\n",
       "        \n",
       "        <div class=\"syft-grid\">\n",
       "            <div class=\"syft-section\">\n",
       "                <div class=\"syft-section-title\">📁 Files</div>\n",
       "                <div class=\"syft-files\">\n",
       "                    <div class=\"syft-file-card\">\n",
       "                        <div class=\"syft-file-header\">\n",
       "                            <span class=\"syft-file-type\">🔍 Mock (Demo)</span>\n",
       "                            <span class=\"syft-badge syft-badge-available\">✓ Available</span>\n",
       "                        </div>\n",
       "                        <div class=\"syft-file-url\">syft://liamtrask@gmail.com/public/objects/auto_object_3f8ce2d6_de2dbad8.txt</div>\n",
       "                        \n",
       "                    </div>\n",
       "                    \n",
       "                    <div class=\"syft-file-card\">\n",
       "                        <div class=\"syft-file-header\">\n",
       "                            <span class=\"syft-file-type\">🔐 Private (Real)</span>\n",
       "                            <span class=\"syft-badge syft-badge-available\">✓ Available</span>\n",
       "                        </div>\n",
       "                        <div class=\"syft-file-url\">syft://liamtrask@gmail.com/private/objects/auto_object_3f8ce2d6_de2dbad8.txt</div>\n",
       "                        <div class=\"syft-file-info\">Path: /Users/atrask/SyftBox/datasites/liamtrask@gmail.com/private/objects/auto_object_3f8ce2d6_de2dbad8.txt</div>\n",
       "                    </div>\n",
       "                    \n",
       "                    <div class=\"syft-file-card syft-metadata-file\">\n",
       "                        <div class=\"syft-file-header\">\n",
       "                            <span class=\"syft-file-type\">📋 Metadata (.syftobject.yaml)</span>\n",
       "                            <span class=\"syft-badge syft-badge-available\">✓ Saved</span>\n",
       "                        </div>\n",
       "                        <div class=\"syft-file-url\">Object metadata and permissions</div>\n",
       "                        <div class=\"syft-file-info\">Path: /Users/atrask/SyftBox/datasites/liamtrask@gmail.com/public/objects/auto_object_3f8ce2d6_de2dbad8.syftobject.yaml</div>\n",
       "                    </div>\n",
       "                </div>\n",
       "            </div>\n",
       "            \n",
       "            <div class=\"syft-section\">\n",
       "                <div class=\"syft-section-title\">🎯 Permissions</div>\n",
       "                <div class=\"syft-permissions\">\n",
       "                    <div class=\"syft-perm-row\">\n",
       "                        <span class=\"syft-perm-label\">Discovery</span>\n",
       "                        <span class=\"syft-badge syft-badge-public\">Public</span>\n",
       "                    </div>\n",
       "                    <div class=\"syft-perm-row\">\n",
       "                        <span class=\"syft-perm-label\">Mock Read</span>\n",
       "                        <span class=\"syft-badge syft-badge-public\">Public</span>\n",
       "                    </div>\n",
       "                    <div class=\"syft-perm-row\">\n",
       "                        <span class=\"syft-perm-label\">Mock Write</span>\n",
       "                        <span class=\"syft-badge syft-badge-none\">None</span>\n",
       "                    </div>\n",
       "                    <div class=\"syft-perm-row\">\n",
       "                        <span class=\"syft-perm-label\">Private Read</span>\n",
       "                        <span class=\"syft-badge syft-badge-user\">liamtrask@gmail.com</span>\n",
       "                    </div>\n",
       "                    <div class=\"syft-perm-row\">\n",
       "                        <span class=\"syft-perm-label\">Private Write</span>\n",
       "                        <span class=\"syft-badge syft-badge-user\">liamtrask@gmail.com</span>\n",
       "                    </div>\n",
       "                </div>\n",
       "            </div>\n",
       "        </div>\n",
       "        \n",
       "        <div class=\"syft-section\">\n",
       "            <div class=\"syft-section-title\">📋 Metadata</div>\n",
       "            <div class=\"syft-metadata\">\n",
       "                <div class=\"syft-meta-row\">\n",
       "                    <span class=\"syft-meta-key\">Created</span>\n",
       "                    <span class=\"syft-meta-value\">2025-07-09 01:32 UTC</span>\n",
       "                </div>\n",
       "                <div class=\"syft-meta-row\"><span class=\"syft-meta-key\">Updated</span><span class=\"syft-meta-value\">2025-07-09 01:37 UTC</span></div>\n",
       "                <div class=\"syft-meta-row\"><span class=\"syft-meta-key\">Description</span><span class=\"syft-meta-value\">Object 'Auto Object 3f8ce2d6' with explicit mock and private content</span></div>\n",
       "                \n",
       "            </div>\n",
       "            \n",
       "            \n",
       "    <div class=\"syft-file-ops\">\n",
       "        <div class=\"syft-file-ops-title\">✅ File Operations - SyftBox Integration Active</div>\n",
       "        <div class=\"syft-file-ops-list\">\n",
       "    Moved to SyftBox locations:<br>  • tmp/auto_object_3f8ce2d6_de2dbad8.txt → syft://liamtrask@gmail.com/private/objects/auto_object_3f8ce2d6_de2dbad8.txt<br>  • tmp/auto_object_3f8ce2d6_de2dbad8_mock.txt → syft://liamtrask@gmail.com/public/objects/auto_object_3f8ce2d6_de2dbad8.txt<br>  • tmp/auto_object_3f8ce2d6_de2dbad8.syftobject.yaml → syft://liamtrask@gmail.com/public/objects/auto_object_3f8ce2d6_de2dbad8.syftobject.yaml<br></div></div>\n",
       "        </div>\n",
       "    </div>\n",
       "    "
      ],
      "text/plain": [
       "<SyftObject uid=de2dbad8-2146-4ebc-9302-2f19d595c9d2 name='My New Object'>"
      ]
     },
     "execution_count": 113,
     "metadata": {},
     "output_type": "execute_result"
    }
   ],
   "source": [
    "new_obj"
   ]
  },
  {
   "cell_type": "code",
   "execution_count": 112,
   "id": "d3d67ec0-17b1-40b3-b5b4-9d1b87208064",
   "metadata": {},
   "outputs": [
    {
     "data": {
      "text/plain": [
       "['delete_obj',\n",
       " 'get_created_at',\n",
       " 'get_description',\n",
       " 'get_file_type',\n",
       " 'get_info',\n",
       " 'get_metadata',\n",
       " 'get_name',\n",
       " 'get_path',\n",
       " 'get_permissions',\n",
       " 'get_uid',\n",
       " 'get_updated_at',\n",
       " 'get_urls',\n",
       " 'mock',\n",
       " 'private',\n",
       " 'set_description',\n",
       " 'set_metadata',\n",
       " 'set_name',\n",
       " 'set_permissions',\n",
       " 'syftobject_config',\n",
       " 'type',\n",
       " 'update_metadata']"
      ]
     },
     "execution_count": 112,
     "metadata": {},
     "output_type": "execute_result"
    }
   ],
   "source": [
    "dir(new_obj)"
   ]
  },
  {
   "cell_type": "code",
   "execution_count": 105,
   "id": "84bc2455-5fe4-40dc-8b3e-4f0cb6143b45",
   "metadata": {},
   "outputs": [
    {
     "data": {
      "text/plain": [
       "['get_created_at',\n",
       " 'get_description',\n",
       " 'get_file_type',\n",
       " 'get_info',\n",
       " 'get_metadata',\n",
       " 'get_name',\n",
       " 'get_path',\n",
       " 'get_permissions',\n",
       " 'get_uid',\n",
       " 'get_updated_at',\n",
       " 'get_urls']"
      ]
     },
     "execution_count": 105,
     "metadata": {},
     "output_type": "execute_result"
    }
   ],
   "source": [
    "# a list of all the getter functions\n",
    "obj_getters = list(filter(lambda x:'get' in x, dir(new_obj)))\n",
    "obj_mock_getters = list(filter(lambda x:'get' in x and \"__\" not in x, dir(new_obj.mock)))\n",
    "obj_private_getters = list(filter(lambda x:'get' in x and \"__\" not in x, dir(new_obj.private)))\n",
    "obj_syftobject_config_getters = list(filter(lambda x:'get' in x and \"__\" not in x, dir(new_obj.syftobject_config)))\n",
    "obj_getters"
   ]
  },
  {
   "cell_type": "code",
   "execution_count": 106,
   "id": "1cde7919-4dda-4040-8106-ee79e570972d",
   "metadata": {},
   "outputs": [
    {
     "data": {
      "text/plain": [
       "['get_path', 'get_permissions', 'get_url', 'get_write_permissions']"
      ]
     },
     "execution_count": 106,
     "metadata": {},
     "output_type": "execute_result"
    }
   ],
   "source": [
    "obj_mock_getters"
   ]
  },
  {
   "cell_type": "code",
   "execution_count": 107,
   "id": "9fe7f6d3-2c9a-4f52-961e-852fb26ce17c",
   "metadata": {},
   "outputs": [
    {
     "data": {
      "text/plain": [
       "['get_path', 'get_permissions', 'get_url', 'get_write_permissions']"
      ]
     },
     "execution_count": 107,
     "metadata": {},
     "output_type": "execute_result"
    }
   ],
   "source": [
    "obj_private_getters"
   ]
  },
  {
   "cell_type": "code",
   "execution_count": 110,
   "id": "be2d150b-3e86-42cc-8caf-42cb93c21907",
   "metadata": {},
   "outputs": [
    {
     "data": {
      "text/plain": [
       "['get_path', 'get_permissions', 'get_url']"
      ]
     },
     "execution_count": 110,
     "metadata": {},
     "output_type": "execute_result"
    }
   ],
   "source": [
    "obj_syftobject_config_getters"
   ]
  },
  {
   "cell_type": "code",
   "execution_count": 122,
   "id": "1c59371f-19f7-41ae-91ae-c20468ef762d",
   "metadata": {},
   "outputs": [
    {
     "data": {
      "text/plain": [
       "<syft_objects.clean_api.MockAccessor at 0x113dac6e0>"
      ]
     },
     "execution_count": 122,
     "metadata": {},
     "output_type": "execute_result"
    }
   ],
   "source": [
    "new_obj.mock"
   ]
  },
  {
   "cell_type": "code",
   "execution_count": 78,
   "id": "52b8c9a5-2daa-4d77-9aa0-948cb943b3bf",
   "metadata": {},
   "outputs": [
    {
     "data": {
      "text/plain": [
       "datetime.datetime(2025, 7, 9, 1, 32, 55, 971811, tzinfo=datetime.timezone.utc)"
      ]
     },
     "execution_count": 78,
     "metadata": {},
     "output_type": "execute_result"
    }
   ],
   "source": [
    "new_obj.get_created_at()"
   ]
  },
  {
   "cell_type": "code",
   "execution_count": 79,
   "id": "b4c01650-3142-4cd9-ba05-f3a4aa14e4db",
   "metadata": {},
   "outputs": [
    {
     "data": {
      "text/plain": [
       "\"Object 'Auto Object 3f8ce2d6' with explicit mock and private content\""
      ]
     },
     "execution_count": 79,
     "metadata": {},
     "output_type": "execute_result"
    }
   ],
   "source": [
    "new_obj.get_description()"
   ]
  },
  {
   "cell_type": "code",
   "execution_count": 80,
   "id": "a0ae47fc-f127-433d-b54d-c88d01948683",
   "metadata": {},
   "outputs": [
    {
     "data": {
      "text/plain": [
       "'txt'"
      ]
     },
     "execution_count": 80,
     "metadata": {},
     "output_type": "execute_result"
    }
   ],
   "source": [
    "new_obj.get_file_type()"
   ]
  },
  {
   "cell_type": "code",
   "execution_count": 84,
   "id": "cd0668b7-729f-49da-964d-a8b62a5594c2",
   "metadata": {},
   "outputs": [
    {
     "data": {
      "text/plain": [
       "'Auto Object 3f8ce2d6'"
      ]
     },
     "execution_count": 84,
     "metadata": {},
     "output_type": "execute_result"
    }
   ],
   "source": [
    "new_obj.get_name()"
   ]
  },
  {
   "cell_type": "code",
   "execution_count": 85,
   "id": "f47582bd-27c0-4ba2-8235-27d6ad7993b7",
   "metadata": {},
   "outputs": [
    {
     "data": {
      "text/plain": [
       "'/Users/atrask/SyftBox/datasites/liamtrask@gmail.com/public/objects/auto_object_3f8ce2d6_de2dbad8.txt'"
      ]
     },
     "execution_count": 85,
     "metadata": {},
     "output_type": "execute_result"
    }
   ],
   "source": [
    "new_obj.get_path()"
   ]
  },
  {
   "cell_type": "code",
   "execution_count": 86,
   "id": "fc2ea715-da67-4216-84a0-9c01720ab95f",
   "metadata": {},
   "outputs": [
    {
     "data": {
      "text/plain": [
       "{'syftobject': {'read': ['public']},\n",
       " 'mock': {'read': ['public'], 'write': []},\n",
       " 'private': {'read': ['liamtrask@gmail.com'],\n",
       "  'write': ['liamtrask@gmail.com']}}"
      ]
     },
     "execution_count": 86,
     "metadata": {},
     "output_type": "execute_result"
    }
   ],
   "source": [
    "new_obj.get_permissions()"
   ]
  },
  {
   "cell_type": "code",
   "execution_count": 87,
   "id": "3f171d7b-b2c2-49f4-bf66-44adb3a3f0f7",
   "metadata": {},
   "outputs": [
    {
     "data": {
      "text/plain": [
       "'de2dbad8-2146-4ebc-9302-2f19d595c9d2'"
      ]
     },
     "execution_count": 87,
     "metadata": {},
     "output_type": "execute_result"
    }
   ],
   "source": [
    "new_obj.get_uid()"
   ]
  },
  {
   "cell_type": "code",
   "execution_count": 88,
   "id": "3ad47486-8407-4f6e-9abb-1ee1371c65f9",
   "metadata": {},
   "outputs": [
    {
     "data": {
      "text/plain": [
       "datetime.datetime(2025, 7, 9, 1, 32, 55, 971797, tzinfo=datetime.timezone.utc)"
      ]
     },
     "execution_count": 88,
     "metadata": {},
     "output_type": "execute_result"
    }
   ],
   "source": [
    "new_obj.get_updated_at()"
   ]
  },
  {
   "cell_type": "code",
   "execution_count": 89,
   "id": "45145311-9efd-484e-967e-1f4722bbbb00",
   "metadata": {},
   "outputs": [
    {
     "data": {
      "text/plain": [
       "{'private': 'syft://liamtrask@gmail.com/private/objects/auto_object_3f8ce2d6_de2dbad8.txt',\n",
       " 'mock': 'syft://liamtrask@gmail.com/public/objects/auto_object_3f8ce2d6_de2dbad8.txt',\n",
       " 'syftobject': 'syft://liamtrask@gmail.com/public/objects/auto_object_3f8ce2d6_de2dbad8.syftobject.yaml'}"
      ]
     },
     "execution_count": 89,
     "metadata": {},
     "output_type": "execute_result"
    }
   ],
   "source": [
    "new_obj.get_urls()"
   ]
  },
  {
   "cell_type": "code",
   "execution_count": 82,
   "id": "3d101b76-8378-44cd-8d97-a0ada4680be6",
   "metadata": {},
   "outputs": [
    {
     "data": {
      "text/plain": [
       "{'_file_operations': {'files_moved_to_syftbox': ['tmp/auto_object_3f8ce2d6_de2dbad8.txt → syft://liamtrask@gmail.com/private/objects/auto_object_3f8ce2d6_de2dbad8.txt',\n",
       "   'tmp/auto_object_3f8ce2d6_de2dbad8_mock.txt → syft://liamtrask@gmail.com/public/objects/auto_object_3f8ce2d6_de2dbad8.txt',\n",
       "   'tmp/auto_object_3f8ce2d6_de2dbad8.syftobject.yaml → syft://liamtrask@gmail.com/public/objects/auto_object_3f8ce2d6_de2dbad8.syftobject.yaml'],\n",
       "  'created_files': ['tmp/auto_object_3f8ce2d6_de2dbad8.txt',\n",
       "   'tmp/auto_object_3f8ce2d6_de2dbad8_mock.txt'],\n",
       "  'syftbox_available': True,\n",
       "  'syftobject_yaml_path': '/Users/atrask/SyftBox/datasites/liamtrask@gmail.com/public/objects/auto_object_3f8ce2d6_de2dbad8.syftobject.yaml'}}"
      ]
     },
     "execution_count": 82,
     "metadata": {},
     "output_type": "execute_result"
    }
   ],
   "source": [
    "new_obj.get_metadata()"
   ]
  },
  {
   "cell_type": "code",
   "execution_count": 81,
   "id": "bd535dea-800d-406b-b4f2-e50809a52247",
   "metadata": {},
   "outputs": [
    {
     "data": {
      "text/plain": [
       "{'uid': 'de2dbad8-2146-4ebc-9302-2f19d595c9d2',\n",
       " 'name': 'Auto Object 3f8ce2d6',\n",
       " 'description': \"Object 'Auto Object 3f8ce2d6' with explicit mock and private content\",\n",
       " 'created_at': '2025-07-09T01:32:55.971811+00:00',\n",
       " 'updated_at': '2025-07-09T01:32:55.971797+00:00',\n",
       " 'is_folder': False,\n",
       " 'metadata': {'_file_operations': {'files_moved_to_syftbox': ['tmp/auto_object_3f8ce2d6_de2dbad8.txt → syft://liamtrask@gmail.com/private/objects/auto_object_3f8ce2d6_de2dbad8.txt',\n",
       "    'tmp/auto_object_3f8ce2d6_de2dbad8_mock.txt → syft://liamtrask@gmail.com/public/objects/auto_object_3f8ce2d6_de2dbad8.txt',\n",
       "    'tmp/auto_object_3f8ce2d6_de2dbad8.syftobject.yaml → syft://liamtrask@gmail.com/public/objects/auto_object_3f8ce2d6_de2dbad8.syftobject.yaml'],\n",
       "   'created_files': ['tmp/auto_object_3f8ce2d6_de2dbad8.txt',\n",
       "    'tmp/auto_object_3f8ce2d6_de2dbad8_mock.txt'],\n",
       "   'syftbox_available': True,\n",
       "   'syftobject_yaml_path': '/Users/atrask/SyftBox/datasites/liamtrask@gmail.com/public/objects/auto_object_3f8ce2d6_de2dbad8.syftobject.yaml'}},\n",
       " 'permissions': {'syftobject': {'read': ['public']},\n",
       "  'mock': {'read': ['public'], 'write': []},\n",
       "  'private': {'read': ['liamtrask@gmail.com'],\n",
       "   'write': ['liamtrask@gmail.com']}}}"
      ]
     },
     "execution_count": 81,
     "metadata": {},
     "output_type": "execute_result"
    }
   ],
   "source": [
    "new_obj.get_info()"
   ]
  },
  {
   "cell_type": "markdown",
   "id": "e2380b0a-0bf9-4112-9053-3eed72dba9b6",
   "metadata": {},
   "source": [
    "### Step 3: UPDATE with Python API"
   ]
  },
  {
   "cell_type": "code",
   "execution_count": 93,
   "id": "09f6447b-b3a2-4e3a-a28d-61ad861ea406",
   "metadata": {},
   "outputs": [
    {
     "data": {
      "text/html": [
       "\n",
       "        <iframe \n",
       "            src=\"http://localhost:51809/widget\" \n",
       "            width=\"100%\" \n",
       "            height=\"400px\"\n",
       "            frameborder=\"0\"\n",
       "            style=\"border: none;\"\n",
       "            title=\"SyftObjects Widget\">\n",
       "        </iframe>\n",
       "        "
      ],
      "text/plain": [
       "+---------+-----------------------+-----------------------+------------------------------------------------------------------------------+-----------------------------------------------------------------------------+\n",
       "|   Index | Email                 | Object Name           | Private URL                                                                  | Mock URL                                                                    |\n",
       "+=========+=======================+=======================+==============================================================================+=============================================================================+\n",
       "|       0 | jajif89762@ofacer.com | NetflixViewingHistory | syft://jajif89762@ofacer.com/private/objects/NetflixViewingHistory.csv       | syft://jajif89762@ofacer.com/public/objects/NetflixViewingHistory.csv       |\n",
       "+---------+-----------------------+-----------------------+------------------------------------------------------------------------------+-----------------------------------------------------------------------------+\n",
       "|       1 | andrew@openmined.org  | Syft Object           | syft://andrew@openmined.org/private/objects/Syft Object_private.txt          | syft://andrew@openmined.org/public/objects/Syft Object_private.txt          |\n",
       "+---------+-----------------------+-----------------------+------------------------------------------------------------------------------+-----------------------------------------------------------------------------+\n",
       "|       2 | andrew@openmined.org  | Syft Object           | syft://andrew@openmined.org/private/objects/Syft Object_private.txt          | syft://andrew@openmined.org/public/objects/Syft Object_private.txt          |\n",
       "+---------+-----------------------+-----------------------+------------------------------------------------------------------------------+-----------------------------------------------------------------------------+\n",
       "|       3 | andrew@openmined.org  | Syft Object           | syft://andrew@openmined.org/private/objects/Syft Object_private.txt          | syft://andrew@openmined.org/public/objects/Syft Object_private.txt          |\n",
       "+---------+-----------------------+-----------------------+------------------------------------------------------------------------------+-----------------------------------------------------------------------------+\n",
       "|       4 | liamtrask@gmail.com   | Auto Object 3f8ce2d6  | syft://liamtrask@gmail.com/private/objects/auto_object_3f8ce2d6_de2dbad8.txt | syft://liamtrask@gmail.com/public/objects/auto_object_3f8ce2d6_de2dbad8.txt |\n",
       "+---------+-----------------------+-----------------------+------------------------------------------------------------------------------+-----------------------------------------------------------------------------+"
      ]
     },
     "execution_count": 93,
     "metadata": {},
     "output_type": "execute_result"
    }
   ],
   "source": [
    "so.objects"
   ]
  },
  {
   "cell_type": "code",
   "execution_count": 92,
   "id": "5e882a0b-8bc4-4433-b59d-f9cb78af6fc6",
   "metadata": {},
   "outputs": [],
   "source": [
    "new_obj.set_name(\"My New Object\")"
   ]
  },
  {
   "cell_type": "code",
   "execution_count": 94,
   "id": "1c8d12b0-6e57-41aa-ad99-8212486010c7",
   "metadata": {},
   "outputs": [
    {
     "data": {
      "text/plain": [
       "'My New Object'"
      ]
     },
     "execution_count": 94,
     "metadata": {},
     "output_type": "execute_result"
    }
   ],
   "source": [
    "new_obj.get_name()"
   ]
  },
  {
   "cell_type": "code",
   "execution_count": null,
   "id": "876ceea2-8ae5-4b46-b1ec-a1964af2eeac",
   "metadata": {},
   "outputs": [],
   "source": []
  },
  {
   "cell_type": "code",
   "execution_count": null,
   "id": "46b3838b-8bca-495c-8bd9-9edd642f54c5",
   "metadata": {},
   "outputs": [],
   "source": []
  },
  {
   "cell_type": "code",
   "execution_count": null,
   "id": "8171bd81-647d-40f4-97ee-f0e532d5c16d",
   "metadata": {},
   "outputs": [],
   "source": [
    "import syft_queue as sq"
   ]
  },
  {
   "cell_type": "code",
   "execution_count": null,
   "id": "a0e35929-30a5-461b-b1e1-0d8feaa2aae0",
   "metadata": {},
   "outputs": [],
   "source": [
    "sq.queues"
   ]
  },
  {
   "cell_type": "code",
   "execution_count": 13,
   "id": "4bc80f17-5e2a-44c1-8bfa-0cf6371db960",
   "metadata": {},
   "outputs": [],
   "source": [
    "test_clean_api = sq.get_queue('test_clean_api')"
   ]
  },
  {
   "cell_type": "code",
   "execution_count": null,
   "id": "e8ca8865-47a0-4001-a5fe-2e212d0585cd",
   "metadata": {},
   "outputs": [],
   "source": [
    "sq."
   ]
  },
  {
   "cell_type": "code",
   "execution_count": 14,
   "id": "6fbbe428-9393-4e74-b838-8d6ff0c6f093",
   "metadata": {},
   "outputs": [
    {
     "data": {
      "text/plain": [
       "Queue(name='test_Q:test_clean_api', path='/Users/atrask/SyftBox/datasites/liamtrask@gmail.com/app_data/syft-queues/646b3624-0796-48dc-8d64-b3e892113f1b_test_clean_api_queue')"
      ]
     },
     "execution_count": 14,
     "metadata": {},
     "output_type": "execute_result"
    }
   ],
   "source": [
    "test_clean_api."
   ]
  },
  {
   "cell_type": "code",
   "execution_count": 8,
   "id": "76f62dfd-25f4-4e82-92db-dc08e32bb5c2",
   "metadata": {},
   "outputs": [
    {
     "name": "stdout",
     "output_type": "stream",
     "text": [
      "Deleted queue directory: /Users/atrask/SyftBox/datasites/liamtrask@gmail.com/app_data/syft-queues/1b7e7c04-4e85-4dee-8565-cfd38440d5d3_basic_test_queue\n",
      "✅ Successfully deleted queue: test_Q:basic_test\n"
     ]
    },
    {
     "data": {
      "text/plain": [
       "True"
      ]
     },
     "execution_count": 8,
     "metadata": {},
     "output_type": "execute_result"
    }
   ],
   "source": [
    "basic_test.delete()"
   ]
  },
  {
   "cell_type": "code",
   "execution_count": null,
   "id": "a6a66ed1-fba0-4cdc-80fb-7705d8e0e37a",
   "metadata": {},
   "outputs": [],
   "source": []
  },
  {
   "cell_type": "code",
   "execution_count": 11,
   "id": "e2a03b75-b295-4f95-acb5-d4ecd72bee14",
   "metadata": {},
   "outputs": [],
   "source": [
    "new_against_21 = sq.get('88d497c5-b2eb-46b7-bd60-0cd70acdaf3a')"
   ]
  },
  {
   "cell_type": "code",
   "execution_count": 14,
   "id": "5056b1f2-3a82-4782-bcd0-b13e96637b8a",
   "metadata": {},
   "outputs": [],
   "source": [
    "my_queue = sq.queue(\"new against 2\"+str(1))"
   ]
  },
  {
   "cell_type": "code",
   "execution_count": 5,
   "id": "cbb8fd58-c324-4a2a-9f59-29904890c8cf",
   "metadata": {},
   "outputs": [],
   "source": [
    "for i in range(50):\n",
    "    my_queue = sq.queue(\"new against 2\"+str(i))"
   ]
  },
  {
   "cell_type": "code",
   "execution_count": 65,
   "id": "cf151d15-d732-4226-a7f6-189d7a517d83",
   "metadata": {},
   "outputs": [],
   "source": [
    "my_queue = sq.queue(\"new1001\")"
   ]
  },
  {
   "cell_type": "code",
   "execution_count": 50,
   "id": "be202c0a-2430-4a96-8e51-b2fc4ec15ae1",
   "metadata": {},
   "outputs": [],
   "source": [
    "my_queue2 = sq.queue(\"new101\")"
   ]
  },
  {
   "cell_type": "code",
   "execution_count": 6,
   "id": "4c864f56-41b7-4460-911f-cee728e3ce95",
   "metadata": {},
   "outputs": [],
   "source": [
    "# my_queue = sq.queue(\"hello3\")"
   ]
  },
  {
   "cell_type": "code",
   "execution_count": 11,
   "id": "cbd6966b-08b6-4964-965e-4302887367b5",
   "metadata": {},
   "outputs": [],
   "source": [
    "for i in range(50):\n",
    "    job = my_queue.create_job(name=\"asdf\"+str(i))"
   ]
  },
  {
   "cell_type": "code",
   "execution_count": 40,
   "id": "32d53b29-a8ec-479e-979a-0a933b97b997",
   "metadata": {},
   "outputs": [],
   "source": [
    "# job.delete()"
   ]
  },
  {
   "cell_type": "code",
   "execution_count": 17,
   "id": "a6991999-04d6-4984-b529-a0eaf04b4d9c",
   "metadata": {},
   "outputs": [
    {
     "name": "stdout",
     "output_type": "stream",
     "text": [
      "Moved job a77e74f5-0b1e-4080-8769-eb28dd081ce4 from running to completed\n"
     ]
    },
    {
     "data": {
      "text/plain": [
       "Job(uid=a77e74f5-0b1e-4080-8769-eb28dd081ce4, name='J:asdf', status=completed)"
      ]
     },
     "execution_count": 17,
     "metadata": {},
     "output_type": "execute_result"
    }
   ],
   "source": [
    "sq.advance(job)"
   ]
  },
  {
   "cell_type": "code",
   "execution_count": 10,
   "id": "a8c8f947-bee3-46f2-b44d-3048ab1de6f9",
   "metadata": {},
   "outputs": [
    {
     "name": "stdout",
     "output_type": "stream",
     "text": [
      "\n",
      "🎯 SyftQueue v0.1.2 - Getting Started Guide\n",
      "\n",
      "👋 Welcome! SyftQueue is a portable queue system for SyftBox with native syft-objects support.\n",
      "\n",
      "🚀 QUICK START - Your First Queue:\n",
      "  1. Import and create a queue:\n",
      "     >>> from syft_queue import q\n",
      "     >>> my_queue = q(\"analytics\")  # Creates or gets queue\n",
      "  \n",
      "  2. Create a job:\n",
      "     >>> job = my_queue.create_job(\n",
      "     ...     name=\"data-analysis\",\n",
      "     ...     requester_email=\"alice@example.com\",\n",
      "     ...     target_email=\"bob@example.com\"\n",
      "     ... )\n",
      "  \n",
      "  3. Add code to the job:\n",
      "     >>> job.code_folder_path.mkdir(exist_ok=True)\n",
      "     >>> (job.code_folder_path / \"run.sh\").write_text(\"echo 'Hello SyftBox!'\")\n",
      "  \n",
      "  4. Submit and track:\n",
      "     >>> my_queue.submit_job(job)\n",
      "     >>> print(f\"Job status: {job.status.value}\")\n",
      "\n",
      "📦 Key Features:\n",
      "  • Native syft-objects integration with syo.syobj()\n",
      "  • Portable jobs with relative path support\n",
      "  • Automatic mock data generation for privacy\n",
      "  • Cross-datasite job submission\n",
      "  • Built-in permission management\n",
      "\n",
      "🔄 Job Lifecycle:\n",
      "  inbox → approved → running → completed\n",
      "                 ↘ rejected      ↘ failed/timedout\n",
      "\n",
      "📋 Queue Operations:\n",
      "  # List all jobs\n",
      "  jobs = my_queue.get_jobs()\n",
      "  \n",
      "  # Filter by status\n",
      "  pending = my_queue.get_jobs(status=JobStatus.inbox)\n",
      "  \n",
      "  # Get specific job\n",
      "  job = my_queue.get_job(job_uid)\n",
      "  \n",
      "  # Approve/reject jobs\n",
      "  from syft_queue import approve, reject\n",
      "  approve(job, approver=\"owner@datasite.com\")\n",
      "  reject(job, reason=\"Insufficient permissions\")\n",
      "\n",
      "🔧 Job Progression API:\n",
      "  from syft_queue import start, complete, fail, advance\n",
      "  \n",
      "  # Move job through pipeline\n",
      "  start(job)      # inbox/approved → running\n",
      "  complete(job)   # running → completed\n",
      "  fail(job, \"error message\")  # → failed\n",
      "  \n",
      "  # Or use advance for automatic progression\n",
      "  advance(job)    # Moves to next logical state\n",
      "\n",
      "🏭 Pipeline Support:\n",
      "  from syft_queue import Pipeline, PipelineBuilder\n",
      "  \n",
      "  # Build multi-stage pipeline\n",
      "  pipeline = (PipelineBuilder()\n",
      "    .add_stage(\"preprocess\", preprocess_fn)\n",
      "    .add_stage(\"analyze\", analyze_fn)\n",
      "    .add_stage(\"report\", report_fn)\n",
      "    .build())\n",
      "  \n",
      "  # Execute pipeline\n",
      "  pipeline.execute(job)\n",
      "\n",
      "💡 Pro Tips:\n",
      "  • Jobs are stored in {queue_name}_queue/jobs/{status}/{job_uid}\n",
      "  • Each job is a syft-object with mock data for privacy\n",
      "  • Use q() for quick queue creation with auto-detection\n",
      "  • Relative paths make jobs portable across datasites\n",
      "\n",
      "📚 Learn More:\n",
      "  • Docs: https://github.com/OpenMined/syft-queue\n",
      "  • Examples: See examples/ folder\n",
      "  • Support: https://github.com/OpenMined/syft-queue/issues\n",
      "        \n"
     ]
    }
   ],
   "source": [
    "my_queue.help()"
   ]
  },
  {
   "cell_type": "code",
   "execution_count": null,
   "id": "e104fe0b-3350-48a6-a437-f0507a6bb288",
   "metadata": {},
   "outputs": [],
   "source": []
  }
 ],
 "metadata": {
  "kernelspec": {
   "display_name": "Python 3 (ipykernel)",
   "language": "python",
   "name": "python3"
  },
  "language_info": {
   "codemirror_mode": {
    "name": "ipython",
    "version": 3
   },
   "file_extension": ".py",
   "mimetype": "text/x-python",
   "name": "python",
   "nbconvert_exporter": "python",
   "pygments_lexer": "ipython3",
   "version": "3.12.7"
  }
 },
 "nbformat": 4,
 "nbformat_minor": 5
}
