{
 "cells": [
  {
   "cell_type": "code",
   "execution_count": 5,
   "id": "ba689e21-4903-428f-b15d-f229844262f5",
   "metadata": {},
   "outputs": [],
   "source": [
    "import syft_objects as so"
   ]
  },
  {
   "cell_type": "code",
   "execution_count": 11,
   "id": "61eee45e-5a5b-443d-b227-9687d716863e",
   "metadata": {},
   "outputs": [
    {
     "data": {
      "text/html": [
       "\n",
       "        <iframe \n",
       "            src=\"http://localhost:51774/widget\" \n",
       "            width=\"100%\" \n",
       "            height=\"400px\"\n",
       "            frameborder=\"0\"\n",
       "            style=\"border: none;\"\n",
       "            title=\"SyftObjects Widget\">\n",
       "        </iframe>\n",
       "        "
      ],
      "text/plain": [
       "+---------+-----------------------+-----------------------+------------------------------------------------------------------------+-----------------------------------------------------------------------+\n",
       "|   Index | Email                 | Object Name           | Private URL                                                            | Mock URL                                                              |\n",
       "+=========+=======================+=======================+========================================================================+=======================================================================+\n",
       "|       0 | liamtrask@gmail.com   | Syft Object           | syft://liamtrask@gmail.com/private/objects/Syft Object_private.txt     | syft://liamtrask@gmail.com/public/objects/Syft Object_private.txt     |\n",
       "+---------+-----------------------+-----------------------+------------------------------------------------------------------------+-----------------------------------------------------------------------+\n",
       "|       1 | jajif89762@ofacer.com | NetflixViewingHistory | syft://jajif89762@ofacer.com/private/objects/NetflixViewingHistory.csv | syft://jajif89762@ofacer.com/public/objects/NetflixViewingHistory.csv |\n",
       "+---------+-----------------------+-----------------------+------------------------------------------------------------------------+-----------------------------------------------------------------------+"
      ]
     },
     "execution_count": 11,
     "metadata": {},
     "output_type": "execute_result"
    }
   ],
   "source": [
    "so.objects"
   ]
  },
  {
   "cell_type": "code",
   "execution_count": 9,
   "id": "58b17b85-197d-4125-a668-2d90120763fd",
   "metadata": {},
   "outputs": [],
   "source": [
    "NetflixViewingHistory = so.objects[\"0b2f982d-6f82-48f3-b32e-3005e186e1cc\"]"
   ]
  },
  {
   "cell_type": "code",
   "execution_count": 10,
   "id": "a99d8f3e-16d6-4989-ba5d-c34b1ed99aeb",
   "metadata": {},
   "outputs": [
    {
     "data": {
      "text/html": [
       "\n",
       "            <div style=\"width: 100%; height: 420px; border: 1px solid #e5e7eb; border-radius: 8px; overflow: hidden;\">\n",
       "                <iframe src=\"http://localhost:57482/api/object/0b2f982d-6f82-48f3-b32e-3005e186e1cc/view\" style=\"width: 100%; height: 100%; border: none;\"></iframe>\n",
       "            </div>\n",
       "            "
      ],
      "text/plain": [
       "<SyftObject uid=0b2f982d-6f82-48f3-b32e-3005e186e1cc name='NetflixViewingHistory'>"
      ]
     },
     "execution_count": 10,
     "metadata": {},
     "output_type": "execute_result"
    }
   ],
   "source": [
    "NetflixViewingHistory"
   ]
  },
  {
   "cell_type": "code",
   "execution_count": null,
   "id": "cc33c416-e959-471d-84ba-6079649f0af3",
   "metadata": {},
   "outputs": [],
   "source": []
  }
 ],
 "metadata": {
  "kernelspec": {
   "display_name": "Python 3 (ipykernel)",
   "language": "python",
   "name": "python3"
  },
  "language_info": {
   "codemirror_mode": {
    "name": "ipython",
    "version": 3
   },
   "file_extension": ".py",
   "mimetype": "text/x-python",
   "name": "python",
   "nbconvert_exporter": "python",
   "pygments_lexer": "ipython3",
   "version": "3.12.7"
  }
 },
 "nbformat": 4,
 "nbformat_minor": 5
}
