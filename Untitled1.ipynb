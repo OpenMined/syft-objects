{
 "cells": [
  {
   "cell_type": "code",
   "execution_count": 1,
   "id": "ba689e21-4903-428f-b15d-f229844262f5",
   "metadata": {},
   "outputs": [],
   "source": [
    "import syft_objects as so"
   ]
  },
  {
   "cell_type": "code",
   "execution_count": 5,
   "id": "cc33c416-e959-471d-84ba-6079649f0af3",
   "metadata": {},
   "outputs": [
    {
     "data": {
      "text/html": [
       "\n",
       "        <iframe \n",
       "            src=\"http://localhost:8004/widget/\" \n",
       "            width=\"100%\" \n",
       "            height=\"400px\"\n",
       "            frameborder=\"0\"\n",
       "            style=\"border: none;\"\n",
       "            title=\"SyftObjects Widget\">\n",
       "        </iframe>\n",
       "        "
      ],
      "text/plain": [
       "+---------+-----------------------+-------------------------------+---------------------------------------------------------------------------------------+--------------------------------------------------------------------------------------+\n",
       "|   Index | Email                 | Object Name                   | Private URL                                                                           | Mock URL                                                                             |\n",
       "+=========+=======================+===============================+=======================================================================================+======================================================================================+\n",
       "|       0 | liamtrask@gmail.com   | Syft Object2                  | syft://liamtrask@gmail.com/private/objects/Syft Object2_private.txt                   | syft://liamtrask@gmail.com/public/objects/Syft Object2_private.txt                   |\n",
       "+---------+-----------------------+-------------------------------+---------------------------------------------------------------------------------------+--------------------------------------------------------------------------------------+\n",
       "|       1 | liamtrask@gmail.com   | Mock Read Test                | syft://liamtrask@gmail.com/private/objects/mock_read_test_562431ae.txt                | syft://liamtrask@gmail.com/private/objects/mock_read_test_562431ae.txt               |\n",
       "+---------+-----------------------+-------------------------------+---------------------------------------------------------------------------------------+--------------------------------------------------------------------------------------+\n",
       "|       2 | liamtrask@gmail.com   | Permission Test 2             | syft://liamtrask@gmail.com/private/objects/permission_test_2_1a2d6eeb.txt             | syft://liamtrask@gmail.com/public/objects/permission_test_2_1a2d6eeb.txt             |\n",
       "+---------+-----------------------+-------------------------------+---------------------------------------------------------------------------------------+--------------------------------------------------------------------------------------+\n",
       "|       3 | liamtrask@gmail.com   | Permission Test Object        | syft://liamtrask@gmail.com/private/objects/permission_test_object_4feb129a.txt        | syft://liamtrask@gmail.com/public/objects/permission_test_object_4feb129a.txt        |\n",
       "+---------+-----------------------+-------------------------------+---------------------------------------------------------------------------------------+--------------------------------------------------------------------------------------+\n",
       "|       4 | liamtrask@gmail.com   | test                          | syft://liamtrask@gmail.com/private/objects/test_befcd707.txt                          | syft://liamtrask@gmail.com/public/objects/test_befcd707.txt                          |\n",
       "+---------+-----------------------+-------------------------------+---------------------------------------------------------------------------------------+--------------------------------------------------------------------------------------+\n",
       "|       5 | liamtrask@gmail.com   | Test ML Project               | syft://liamtrask@gmail.com/private/objects/test_ml_project_8278b813/                  | syft://liamtrask@gmail.com/private/objects/test_ml_project_8278b813/                 |\n",
       "+---------+-----------------------+-------------------------------+---------------------------------------------------------------------------------------+--------------------------------------------------------------------------------------+\n",
       "|       6 | liamtrask@gmail.com   | Test ML Project 2             | syft://liamtrask@gmail.com/private/objects/test_ml_project_2_c95b1176/                | syft://liamtrask@gmail.com/private/objects/test_ml_project_2_c95b1176/               |\n",
       "+---------+-----------------------+-------------------------------+---------------------------------------------------------------------------------------+--------------------------------------------------------------------------------------+\n",
       "|       7 | liamtrask@gmail.com   | Mock Read Test CANT READ      | syft://liamtrask@gmail.com/private/objects/mock_read_test_cant_read_d9cf7627.txt      | syft://liamtrask@gmail.com/public/objects/mock_read_test_cant_read_d9cf7627.txt      |\n",
       "+---------+-----------------------+-------------------------------+---------------------------------------------------------------------------------------+--------------------------------------------------------------------------------------+\n",
       "|       8 | liamtrask@gmail.com   | Mock Read Test                | syft://liamtrask@gmail.com/private/objects/mock_read_test_22dd0b34.txt                | syft://liamtrask@gmail.com/private/objects/mock_read_test_22dd0b34.txt               |\n",
       "+---------+-----------------------+-------------------------------+---------------------------------------------------------------------------------------+--------------------------------------------------------------------------------------+\n",
       "|       9 | liamtrask@gmail.com   | Permission Test Object        | syft://liamtrask@gmail.com/private/objects/permission_test_object_243545d6.txt        | syft://liamtrask@gmail.com/public/objects/permission_test_object_243545d6.txt        |\n",
       "+---------+-----------------------+-------------------------------+---------------------------------------------------------------------------------------+--------------------------------------------------------------------------------------+\n",
       "|      10 | liamtrask@gmail.com   | Permission Test Object        | syft://liamtrask@gmail.com/private/objects/permission_test_object_76a1f647.txt        | syft://liamtrask@gmail.com/public/objects/permission_test_object_76a1f647.txt        |\n",
       "+---------+-----------------------+-------------------------------+---------------------------------------------------------------------------------------+--------------------------------------------------------------------------------------+\n",
       "|      11 | liamtrask@gmail.com   | test_data                     | syft://liamtrask@gmail.com/private/objects/test_data_998873d1.txt                     | syft://liamtrask@gmail.com/public/objects/test_data_998873d1.txt                     |\n",
       "+---------+-----------------------+-------------------------------+---------------------------------------------------------------------------------------+--------------------------------------------------------------------------------------+\n",
       "|      12 | liamtrask@gmail.com   | Test ML Project 3             | syft://liamtrask@gmail.com/private/objects/test_ml_project_3_c44aff2f/                | syft://liamtrask@gmail.com/private/objects/test_ml_project_3_c44aff2f/               |\n",
       "+---------+-----------------------+-------------------------------+---------------------------------------------------------------------------------------+--------------------------------------------------------------------------------------+\n",
       "|      13 | liamtrask@gmail.com   | Q5 Sales Analysissss          | syft://liamtrask@gmail.com/private/objects/q5_sales_analysissss_89a39432.txt          | syft://liamtrask@gmail.com/public/objects/q5_sales_analysissss_89a39432.txt          |\n",
       "+---------+-----------------------+-------------------------------+---------------------------------------------------------------------------------------+--------------------------------------------------------------------------------------+\n",
       "|      14 | liamtrask@gmail.com   | Mock Read Test CAN READ — v2  | syft://liamtrask@gmail.com/private/objects/mock_read_test_can_read_—_v2_e69fc903.txt  | syft://liamtrask@gmail.com/public/objects/mock_read_test_can_read_—_v2_e69fc903.txt  |\n",
       "+---------+-----------------------+-------------------------------+---------------------------------------------------------------------------------------+--------------------------------------------------------------------------------------+\n",
       "|      15 | liamtrask@gmail.com   | Q5 Sales Analysissss          | syft://liamtrask@gmail.com/private/objects/q5_sales_analysissss_393b90cb.txt          | syft://liamtrask@gmail.com/public/objects/q5_sales_analysissss_393b90cb.txt          |\n",
       "+---------+-----------------------+-------------------------------+---------------------------------------------------------------------------------------+--------------------------------------------------------------------------------------+\n",
       "|      16 | liamtrask@gmail.com   | Q5 Sales Analysis             | syft://liamtrask@gmail.com/private/objects/q5_sales_analysis_a285d566.txt             | syft://liamtrask@gmail.com/public/objects/q5_sales_analysis_a285d566.txt             |\n",
       "+---------+-----------------------+-------------------------------+---------------------------------------------------------------------------------------+--------------------------------------------------------------------------------------+\n",
       "|      17 | liamtrask@gmail.com   | Mock Read Test CANT READ — v2 | syft://liamtrask@gmail.com/private/objects/mock_read_test_cant_read — v2_265d8e18.txt | syft://liamtrask@gmail.com/public/objects/mock_read_test_cant_read — v2_265d8e18.txt |\n",
       "+---------+-----------------------+-------------------------------+---------------------------------------------------------------------------------------+--------------------------------------------------------------------------------------+\n",
       "|      18 | liamtrask@gmail.com   | Syft Object                   | syft://liamtrask@gmail.com/private/objects/Syft Object_private.txt                    | syft://liamtrask@gmail.com/public/objects/Syft Object_private.txt                    |\n",
       "+---------+-----------------------+-------------------------------+---------------------------------------------------------------------------------------+--------------------------------------------------------------------------------------+\n",
       "|      19 | jajif89762@ofacer.com | NetflixViewingHistory         | syft://jajif89762@ofacer.com/private/objects/NetflixViewingHistory.csv                | syft://jajif89762@ofacer.com/public/objects/NetflixViewingHistory.csv                |\n",
       "+---------+-----------------------+-------------------------------+---------------------------------------------------------------------------------------+--------------------------------------------------------------------------------------+"
      ]
     },
     "execution_count": 5,
     "metadata": {},
     "output_type": "execute_result"
    }
   ],
   "source": [
    "so.objects"
   ]
  },
  {
   "cell_type": "code",
   "execution_count": 10,
   "id": "eeaa3b6f-d87b-48c6-83f5-81aeed555090",
   "metadata": {},
   "outputs": [
    {
     "data": {
      "text/html": [
       "\n",
       "        <iframe \n",
       "            src=\"http://localhost:8004/widget/?start_index=0&end_index=3\" \n",
       "            width=\"100%\" \n",
       "            height=\"400px\"\n",
       "            frameborder=\"0\"\n",
       "            style=\"border: none;\"\n",
       "            title=\"SyftObjects Widget\">\n",
       "        </iframe>\n",
       "        "
      ],
      "text/plain": [
       "+---------+---------------------+-------------------+---------------------------------------------------------------------------+--------------------------------------------------------------------------+\n",
       "|   Index | Email               | Object Name       | Private URL                                                               | Mock URL                                                                 |\n",
       "+=========+=====================+===================+===========================================================================+==========================================================================+\n",
       "|       0 | liamtrask@gmail.com | Syft Object2      | syft://liamtrask@gmail.com/private/objects/Syft Object2_private.txt       | syft://liamtrask@gmail.com/public/objects/Syft Object2_private.txt       |\n",
       "+---------+---------------------+-------------------+---------------------------------------------------------------------------+--------------------------------------------------------------------------+\n",
       "|       1 | liamtrask@gmail.com | Mock Read Test    | syft://liamtrask@gmail.com/private/objects/mock_read_test_562431ae.txt    | syft://liamtrask@gmail.com/private/objects/mock_read_test_562431ae.txt   |\n",
       "+---------+---------------------+-------------------+---------------------------------------------------------------------------+--------------------------------------------------------------------------+\n",
       "|       2 | liamtrask@gmail.com | Permission Test 2 | syft://liamtrask@gmail.com/private/objects/permission_test_2_1a2d6eeb.txt | syft://liamtrask@gmail.com/public/objects/permission_test_2_1a2d6eeb.txt |\n",
       "+---------+---------------------+-------------------+---------------------------------------------------------------------------+--------------------------------------------------------------------------+"
      ]
     },
     "execution_count": 10,
     "metadata": {},
     "output_type": "execute_result"
    }
   ],
   "source": [
    "so.objects[0:3]"
   ]
  },
  {
   "cell_type": "code",
   "execution_count": null,
   "id": "d1ff9016-1db7-4bf6-bba7-55cc7fb0ce8a",
   "metadata": {},
   "outputs": [],
   "source": []
  }
 ],
 "metadata": {
  "kernelspec": {
   "display_name": "Python 3 (ipykernel)",
   "language": "python",
   "name": "python3"
  },
  "language_info": {
   "codemirror_mode": {
    "name": "ipython",
    "version": 3
   },
   "file_extension": ".py",
   "mimetype": "text/x-python",
   "name": "python",
   "nbconvert_exporter": "python",
   "pygments_lexer": "ipython3",
   "version": "3.12.7"
  }
 },
 "nbformat": 4,
 "nbformat_minor": 5
}
